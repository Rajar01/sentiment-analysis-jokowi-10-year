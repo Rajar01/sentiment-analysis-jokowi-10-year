{
 "cells": [
  {
   "cell_type": "code",
   "execution_count": 3,
   "id": "c91192c2-2be7-4293-80e0-76c86f787068",
   "metadata": {},
   "outputs": [],
   "source": [
    "import pandas as pd"
   ]
  },
  {
   "cell_type": "code",
   "execution_count": 4,
   "id": "b7cf30d5-792e-40ac-b1ca-89d23f2d7dc4",
   "metadata": {},
   "outputs": [
    {
     "data": {
      "text/html": [
       "<div>\n",
       "<style scoped>\n",
       "    .dataframe tbody tr th:only-of-type {\n",
       "        vertical-align: middle;\n",
       "    }\n",
       "\n",
       "    .dataframe tbody tr th {\n",
       "        vertical-align: top;\n",
       "    }\n",
       "\n",
       "    .dataframe thead th {\n",
       "        text-align: right;\n",
       "    }\n",
       "</style>\n",
       "<table border=\"1\" class=\"dataframe\">\n",
       "  <thead>\n",
       "    <tr style=\"text-align: right;\">\n",
       "      <th></th>\n",
       "      <th>article_title</th>\n",
       "      <th>article_author</th>\n",
       "      <th>article_publication_date</th>\n",
       "      <th>article_content</th>\n",
       "    </tr>\n",
       "  </thead>\n",
       "  <tbody>\n",
       "    <tr>\n",
       "      <th>0</th>\n",
       "      <td>Budi Arie Diperiksa Korps Pemberantasan Korups...</td>\n",
       "      <td>CNN Indonesia</td>\n",
       "      <td>2024/12/19 13:04:03</td>\n",
       "      <td>Korps Pemberantasan Tindak Pidana Korupsi (Kor...</td>\n",
       "    </tr>\n",
       "    <tr>\n",
       "      <th>1</th>\n",
       "      <td>Jejak Kasus Mary Jane: Hampir Dieksekusi, Kini...</td>\n",
       "      <td>CNN Indonesia</td>\n",
       "      <td>2024/12/19 07:51:07</td>\n",
       "      <td>Terpidana kasus penyelundupan narkoba asal Fil...</td>\n",
       "    </tr>\n",
       "    <tr>\n",
       "      <th>2</th>\n",
       "      <td>Respons Projo setelah Jokowi dan Keluarga Dipe...</td>\n",
       "      <td>CNN Indonesia</td>\n",
       "      <td>2024/12/18 20:01:45</td>\n",
       "      <td>Organisasi relawan pendukung Presiden ketujuh ...</td>\n",
       "    </tr>\n",
       "    <tr>\n",
       "      <th>3</th>\n",
       "      <td>VIDEO: Nasdem Sebut Terbuka Bagi Jokowi Kalo I...</td>\n",
       "      <td>CNN Indonesia</td>\n",
       "      <td>2024/12/18 14:30:17</td>\n",
       "      <td>Ketua DPP Partai Nasdem Willy Aditya menyebut ...</td>\n",
       "    </tr>\n",
       "    <tr>\n",
       "      <th>4</th>\n",
       "      <td>VIDEO:PDIP Pecat Jokowi, Gibran, Bobby, Siti Z...</td>\n",
       "      <td>CNN Indonesia</td>\n",
       "      <td>2024/12/18 13:35:00</td>\n",
       "      <td>Pengamat politik sekaligus peneliti Badan Rise...</td>\n",
       "    </tr>\n",
       "  </tbody>\n",
       "</table>\n",
       "</div>"
      ],
      "text/plain": [
       "                                       article_title article_author  \\\n",
       "0  Budi Arie Diperiksa Korps Pemberantasan Korups...  CNN Indonesia   \n",
       "1  Jejak Kasus Mary Jane: Hampir Dieksekusi, Kini...  CNN Indonesia   \n",
       "2  Respons Projo setelah Jokowi dan Keluarga Dipe...  CNN Indonesia   \n",
       "3  VIDEO: Nasdem Sebut Terbuka Bagi Jokowi Kalo I...  CNN Indonesia   \n",
       "4  VIDEO:PDIP Pecat Jokowi, Gibran, Bobby, Siti Z...  CNN Indonesia   \n",
       "\n",
       "  article_publication_date                                    article_content  \n",
       "0      2024/12/19 13:04:03  Korps Pemberantasan Tindak Pidana Korupsi (Kor...  \n",
       "1      2024/12/19 07:51:07  Terpidana kasus penyelundupan narkoba asal Fil...  \n",
       "2      2024/12/18 20:01:45  Organisasi relawan pendukung Presiden ketujuh ...  \n",
       "3      2024/12/18 14:30:17  Ketua DPP Partai Nasdem Willy Aditya menyebut ...  \n",
       "4      2024/12/18 13:35:00  Pengamat politik sekaligus peneliti Badan Rise...  "
      ]
     },
     "execution_count": 4,
     "metadata": {},
     "output_type": "execute_result"
    }
   ],
   "source": [
    "df = pd.read_csv('cnnindonesia_unprocessed_news_data.csv', sep='\\t')\n",
    "\n",
    "# Display the first few rows\n",
    "df.head()"
   ]
  },
  {
   "cell_type": "code",
   "execution_count": 6,
   "id": "44d3383f-d377-403f-8064-f8fcd7feff18",
   "metadata": {},
   "outputs": [
    {
     "data": {
      "text/plain": [
       "(460, 4)"
      ]
     },
     "execution_count": 6,
     "metadata": {},
     "output_type": "execute_result"
    }
   ],
   "source": [
    "# Display the the number of rows x columns\n",
    "df.shape"
   ]
  },
  {
   "cell_type": "code",
   "execution_count": 7,
   "id": "8605374e-d01b-4895-a9a5-eb2557bf082d",
   "metadata": {},
   "outputs": [
    {
     "data": {
      "text/html": [
       "<div>\n",
       "<style scoped>\n",
       "    .dataframe tbody tr th:only-of-type {\n",
       "        vertical-align: middle;\n",
       "    }\n",
       "\n",
       "    .dataframe tbody tr th {\n",
       "        vertical-align: top;\n",
       "    }\n",
       "\n",
       "    .dataframe thead th {\n",
       "        text-align: right;\n",
       "    }\n",
       "</style>\n",
       "<table border=\"1\" class=\"dataframe\">\n",
       "  <thead>\n",
       "    <tr style=\"text-align: right;\">\n",
       "      <th></th>\n",
       "      <th>article_title</th>\n",
       "      <th>article_author</th>\n",
       "      <th>article_publication_date</th>\n",
       "      <th>article_content</th>\n",
       "    </tr>\n",
       "  </thead>\n",
       "  <tbody>\n",
       "    <tr>\n",
       "      <th>count</th>\n",
       "      <td>460</td>\n",
       "      <td>460</td>\n",
       "      <td>460</td>\n",
       "      <td>460</td>\n",
       "    </tr>\n",
       "    <tr>\n",
       "      <th>unique</th>\n",
       "      <td>460</td>\n",
       "      <td>1</td>\n",
       "      <td>460</td>\n",
       "      <td>458</td>\n",
       "    </tr>\n",
       "    <tr>\n",
       "      <th>top</th>\n",
       "      <td>Deret Aktivitas Sepekan Pertama Prabowo sebaga...</td>\n",
       "      <td>CNN Indonesia</td>\n",
       "      <td>2024/10/28 19:06:43</td>\n",
       "      <td>Janji pemerintahan Prabowo-Gibran, dalam membe...</td>\n",
       "    </tr>\n",
       "    <tr>\n",
       "      <th>freq</th>\n",
       "      <td>1</td>\n",
       "      <td>460</td>\n",
       "      <td>1</td>\n",
       "      <td>2</td>\n",
       "    </tr>\n",
       "  </tbody>\n",
       "</table>\n",
       "</div>"
      ],
      "text/plain": [
       "                                            article_title article_author  \\\n",
       "count                                                 460            460   \n",
       "unique                                                460              1   \n",
       "top     Deret Aktivitas Sepekan Pertama Prabowo sebaga...  CNN Indonesia   \n",
       "freq                                                    1            460   \n",
       "\n",
       "       article_publication_date  \\\n",
       "count                       460   \n",
       "unique                      460   \n",
       "top         2024/10/28 19:06:43   \n",
       "freq                          1   \n",
       "\n",
       "                                          article_content  \n",
       "count                                                 460  \n",
       "unique                                                458  \n",
       "top     Janji pemerintahan Prabowo-Gibran, dalam membe...  \n",
       "freq                                                    2  "
      ]
     },
     "execution_count": 7,
     "metadata": {},
     "output_type": "execute_result"
    }
   ],
   "source": [
    "# Summary statistics\n",
    "df.describe()"
   ]
  },
  {
   "cell_type": "code",
   "execution_count": 8,
   "id": "6695b318-0d21-42fd-b4c7-88cc49f07a95",
   "metadata": {},
   "outputs": [
    {
     "name": "stdout",
     "output_type": "stream",
     "text": [
      "<class 'pandas.core.frame.DataFrame'>\n",
      "RangeIndex: 460 entries, 0 to 459\n",
      "Data columns (total 4 columns):\n",
      " #   Column                    Non-Null Count  Dtype \n",
      "---  ------                    --------------  ----- \n",
      " 0   article_title             460 non-null    object\n",
      " 1   article_author            460 non-null    object\n",
      " 2   article_publication_date  460 non-null    object\n",
      " 3   article_content           460 non-null    object\n",
      "dtypes: object(4)\n",
      "memory usage: 14.5+ KB\n"
     ]
    }
   ],
   "source": [
    "# Information about the dataset\n",
    "df.info()"
   ]
  },
  {
   "cell_type": "code",
   "execution_count": 9,
   "id": "03cc8614-c273-471d-832f-4664d3ebf7ba",
   "metadata": {},
   "outputs": [
    {
     "data": {
      "text/plain": [
       "article_title               0\n",
       "article_author              0\n",
       "article_publication_date    0\n",
       "article_content             0\n",
       "dtype: int64"
      ]
     },
     "execution_count": 9,
     "metadata": {},
     "output_type": "execute_result"
    }
   ],
   "source": [
    "# Check for missing values\n",
    "df.isnull().sum()"
   ]
  },
  {
   "cell_type": "code",
   "execution_count": 10,
   "id": "1afb35d0-d517-4dd9-a2f0-d549e692d3d6",
   "metadata": {},
   "outputs": [
    {
     "data": {
      "text/plain": [
       "np.int64(0)"
      ]
     },
     "execution_count": 10,
     "metadata": {},
     "output_type": "execute_result"
    }
   ],
   "source": [
    "# Check for duplicates\n",
    "df.duplicated().sum()"
   ]
  },
  {
   "cell_type": "code",
   "execution_count": 11,
   "id": "78f64a9d-4151-4371-9597-618c48b00753",
   "metadata": {},
   "outputs": [
    {
     "data": {
      "text/plain": [
       "np.int64(227)"
      ]
     },
     "execution_count": 11,
     "metadata": {},
     "output_type": "execute_result"
    }
   ],
   "source": [
    "# Check row where article_title column not contain Jokowi keyword\n",
    "(~df['article_title'].str.contains('Jokowi', na=False)).sum()"
   ]
  },
  {
   "cell_type": "code",
   "execution_count": 12,
   "id": "f223d5d2-0347-4b4c-9bad-d3bc7a1fc0f5",
   "metadata": {},
   "outputs": [
    {
     "data": {
      "text/plain": [
       "np.int64(0)"
      ]
     },
     "execution_count": 12,
     "metadata": {},
     "output_type": "execute_result"
    }
   ],
   "source": [
    "# Remove row where artilce_title column not contain Jokowi keyword\n",
    "df = df[df['article_title'].str.contains('Jokowi', na=False)]\n",
    "\n",
    "(~df['article_title'].str.contains('Jokowi', na=False)).sum()"
   ]
  },
  {
   "cell_type": "code",
   "execution_count": 13,
   "id": "fc3746e5-e34b-44e2-9798-94005b6274aa",
   "metadata": {},
   "outputs": [
    {
     "data": {
      "text/html": [
       "<div>\n",
       "<style scoped>\n",
       "    .dataframe tbody tr th:only-of-type {\n",
       "        vertical-align: middle;\n",
       "    }\n",
       "\n",
       "    .dataframe tbody tr th {\n",
       "        vertical-align: top;\n",
       "    }\n",
       "\n",
       "    .dataframe thead th {\n",
       "        text-align: right;\n",
       "    }\n",
       "</style>\n",
       "<table border=\"1\" class=\"dataframe\">\n",
       "  <thead>\n",
       "    <tr style=\"text-align: right;\">\n",
       "      <th></th>\n",
       "      <th>article_title</th>\n",
       "      <th>article_author</th>\n",
       "      <th>article_publication_date</th>\n",
       "      <th>article_content</th>\n",
       "    </tr>\n",
       "  </thead>\n",
       "  <tbody>\n",
       "    <tr>\n",
       "      <th>2</th>\n",
       "      <td>Respons Projo setelah Jokowi dan Keluarga Dipe...</td>\n",
       "      <td>CNN Indonesia</td>\n",
       "      <td>18-12-2024</td>\n",
       "      <td>Organisasi relawan pendukung Presiden ketujuh ...</td>\n",
       "    </tr>\n",
       "    <tr>\n",
       "      <th>3</th>\n",
       "      <td>VIDEO: Nasdem Sebut Terbuka Bagi Jokowi Kalo I...</td>\n",
       "      <td>CNN Indonesia</td>\n",
       "      <td>18-12-2024</td>\n",
       "      <td>Ketua DPP Partai Nasdem Willy Aditya menyebut ...</td>\n",
       "    </tr>\n",
       "    <tr>\n",
       "      <th>4</th>\n",
       "      <td>VIDEO:PDIP Pecat Jokowi, Gibran, Bobby, Siti Z...</td>\n",
       "      <td>CNN Indonesia</td>\n",
       "      <td>18-12-2024</td>\n",
       "      <td>Pengamat politik sekaligus peneliti Badan Rise...</td>\n",
       "    </tr>\n",
       "    <tr>\n",
       "      <th>5</th>\n",
       "      <td>Beda Respons Jokowi, Gibran, dan Bobby Usai Di...</td>\n",
       "      <td>CNN Indonesia</td>\n",
       "      <td>18-12-2024</td>\n",
       "      <td>Presiden ke-7 RI Joko Widodo, Wakil Presiden G...</td>\n",
       "    </tr>\n",
       "    <tr>\n",
       "      <th>6</th>\n",
       "      <td>VIDEO: Dipecat PDIP, Jokowi: Ndak Apa, Waktu Y...</td>\n",
       "      <td>CNN Indonesia</td>\n",
       "      <td>18-12-2024</td>\n",
       "      <td>Presiden Indonesia ke-7, Joko Widodo memberika...</td>\n",
       "    </tr>\n",
       "  </tbody>\n",
       "</table>\n",
       "</div>"
      ],
      "text/plain": [
       "                                       article_title article_author  \\\n",
       "2  Respons Projo setelah Jokowi dan Keluarga Dipe...  CNN Indonesia   \n",
       "3  VIDEO: Nasdem Sebut Terbuka Bagi Jokowi Kalo I...  CNN Indonesia   \n",
       "4  VIDEO:PDIP Pecat Jokowi, Gibran, Bobby, Siti Z...  CNN Indonesia   \n",
       "5  Beda Respons Jokowi, Gibran, dan Bobby Usai Di...  CNN Indonesia   \n",
       "6  VIDEO: Dipecat PDIP, Jokowi: Ndak Apa, Waktu Y...  CNN Indonesia   \n",
       "\n",
       "  article_publication_date                                    article_content  \n",
       "2               18-12-2024  Organisasi relawan pendukung Presiden ketujuh ...  \n",
       "3               18-12-2024  Ketua DPP Partai Nasdem Willy Aditya menyebut ...  \n",
       "4               18-12-2024  Pengamat politik sekaligus peneliti Badan Rise...  \n",
       "5               18-12-2024  Presiden ke-7 RI Joko Widodo, Wakil Presiden G...  \n",
       "6               18-12-2024  Presiden Indonesia ke-7, Joko Widodo memberika...  "
      ]
     },
     "execution_count": 13,
     "metadata": {},
     "output_type": "execute_result"
    }
   ],
   "source": [
    "# Format article_publication date\n",
    "df['article_publication_date'] = pd.to_datetime(df['article_publication_date']).dt.strftime('%d-%m-%Y')\n",
    "df.head()"
   ]
  },
  {
   "cell_type": "code",
   "execution_count": 14,
   "id": "b4a65c45-03de-4290-bd0e-256e195f066a",
   "metadata": {},
   "outputs": [
    {
     "data": {
      "text/plain": [
       "(233, 4)"
      ]
     },
     "execution_count": 14,
     "metadata": {},
     "output_type": "execute_result"
    }
   ],
   "source": [
    "# Display the the number of rows x columns after preprocessing\n",
    "df.shape"
   ]
  },
  {
   "cell_type": "code",
   "execution_count": 15,
   "id": "d79738d1-a64d-4ccc-8db9-e03521688279",
   "metadata": {},
   "outputs": [
    {
     "data": {
      "text/html": [
       "<div>\n",
       "<style scoped>\n",
       "    .dataframe tbody tr th:only-of-type {\n",
       "        vertical-align: middle;\n",
       "    }\n",
       "\n",
       "    .dataframe tbody tr th {\n",
       "        vertical-align: top;\n",
       "    }\n",
       "\n",
       "    .dataframe thead th {\n",
       "        text-align: right;\n",
       "    }\n",
       "</style>\n",
       "<table border=\"1\" class=\"dataframe\">\n",
       "  <thead>\n",
       "    <tr style=\"text-align: right;\">\n",
       "      <th></th>\n",
       "      <th>article_title</th>\n",
       "      <th>article_author</th>\n",
       "      <th>article_publication_date</th>\n",
       "      <th>article_content</th>\n",
       "    </tr>\n",
       "  </thead>\n",
       "  <tbody>\n",
       "    <tr>\n",
       "      <th>count</th>\n",
       "      <td>233</td>\n",
       "      <td>233</td>\n",
       "      <td>233</td>\n",
       "      <td>233</td>\n",
       "    </tr>\n",
       "    <tr>\n",
       "      <th>unique</th>\n",
       "      <td>233</td>\n",
       "      <td>1</td>\n",
       "      <td>48</td>\n",
       "      <td>233</td>\n",
       "    </tr>\n",
       "    <tr>\n",
       "      <th>top</th>\n",
       "      <td>Respons Projo setelah Jokowi dan Keluarga Dipe...</td>\n",
       "      <td>CNN Indonesia</td>\n",
       "      <td>04-11-2024</td>\n",
       "      <td>Organisasi relawan pendukung Presiden ketujuh ...</td>\n",
       "    </tr>\n",
       "    <tr>\n",
       "      <th>freq</th>\n",
       "      <td>1</td>\n",
       "      <td>233</td>\n",
       "      <td>15</td>\n",
       "      <td>1</td>\n",
       "    </tr>\n",
       "  </tbody>\n",
       "</table>\n",
       "</div>"
      ],
      "text/plain": [
       "                                            article_title article_author  \\\n",
       "count                                                 233            233   \n",
       "unique                                                233              1   \n",
       "top     Respons Projo setelah Jokowi dan Keluarga Dipe...  CNN Indonesia   \n",
       "freq                                                    1            233   \n",
       "\n",
       "       article_publication_date  \\\n",
       "count                       233   \n",
       "unique                       48   \n",
       "top                  04-11-2024   \n",
       "freq                         15   \n",
       "\n",
       "                                          article_content  \n",
       "count                                                 233  \n",
       "unique                                                233  \n",
       "top     Organisasi relawan pendukung Presiden ketujuh ...  \n",
       "freq                                                    1  "
      ]
     },
     "execution_count": 15,
     "metadata": {},
     "output_type": "execute_result"
    }
   ],
   "source": [
    "# Summary statistics after preprocessing\n",
    "df.describe()"
   ]
  },
  {
   "cell_type": "code",
   "execution_count": 16,
   "id": "f57d2a4b-fa7a-4b24-aae0-b6c28a47a15c",
   "metadata": {},
   "outputs": [
    {
     "name": "stdout",
     "output_type": "stream",
     "text": [
      "<class 'pandas.core.frame.DataFrame'>\n",
      "Index: 233 entries, 2 to 457\n",
      "Data columns (total 4 columns):\n",
      " #   Column                    Non-Null Count  Dtype \n",
      "---  ------                    --------------  ----- \n",
      " 0   article_title             233 non-null    object\n",
      " 1   article_author            233 non-null    object\n",
      " 2   article_publication_date  233 non-null    object\n",
      " 3   article_content           233 non-null    object\n",
      "dtypes: object(4)\n",
      "memory usage: 9.1+ KB\n"
     ]
    }
   ],
   "source": [
    "# Information about the dataset after preprocessing\n",
    "df.info()"
   ]
  },
  {
   "cell_type": "code",
   "execution_count": 17,
   "id": "888fba6f-3541-42b7-a95f-647ef9147b2e",
   "metadata": {},
   "outputs": [
    {
     "data": {
      "text/html": [
       "<div>\n",
       "<style scoped>\n",
       "    .dataframe tbody tr th:only-of-type {\n",
       "        vertical-align: middle;\n",
       "    }\n",
       "\n",
       "    .dataframe tbody tr th {\n",
       "        vertical-align: top;\n",
       "    }\n",
       "\n",
       "    .dataframe thead th {\n",
       "        text-align: right;\n",
       "    }\n",
       "</style>\n",
       "<table border=\"1\" class=\"dataframe\">\n",
       "  <thead>\n",
       "    <tr style=\"text-align: right;\">\n",
       "      <th></th>\n",
       "      <th>article_title</th>\n",
       "      <th>article_author</th>\n",
       "      <th>article_publication_date</th>\n",
       "      <th>article_content</th>\n",
       "    </tr>\n",
       "  </thead>\n",
       "  <tbody>\n",
       "    <tr>\n",
       "      <th>2</th>\n",
       "      <td>Respons Projo setelah Jokowi dan Keluarga Dipe...</td>\n",
       "      <td>CNN Indonesia</td>\n",
       "      <td>18-12-2024</td>\n",
       "      <td>Organisasi relawan pendukung Presiden ketujuh ...</td>\n",
       "    </tr>\n",
       "    <tr>\n",
       "      <th>3</th>\n",
       "      <td>VIDEO: Nasdem Sebut Terbuka Bagi Jokowi Kalo I...</td>\n",
       "      <td>CNN Indonesia</td>\n",
       "      <td>18-12-2024</td>\n",
       "      <td>Ketua DPP Partai Nasdem Willy Aditya menyebut ...</td>\n",
       "    </tr>\n",
       "    <tr>\n",
       "      <th>4</th>\n",
       "      <td>VIDEO:PDIP Pecat Jokowi, Gibran, Bobby, Siti Z...</td>\n",
       "      <td>CNN Indonesia</td>\n",
       "      <td>18-12-2024</td>\n",
       "      <td>Pengamat politik sekaligus peneliti Badan Rise...</td>\n",
       "    </tr>\n",
       "    <tr>\n",
       "      <th>5</th>\n",
       "      <td>Beda Respons Jokowi, Gibran, dan Bobby Usai Di...</td>\n",
       "      <td>CNN Indonesia</td>\n",
       "      <td>18-12-2024</td>\n",
       "      <td>Presiden ke-7 RI Joko Widodo, Wakil Presiden G...</td>\n",
       "    </tr>\n",
       "    <tr>\n",
       "      <th>6</th>\n",
       "      <td>VIDEO: Dipecat PDIP, Jokowi: Ndak Apa, Waktu Y...</td>\n",
       "      <td>CNN Indonesia</td>\n",
       "      <td>18-12-2024</td>\n",
       "      <td>Presiden Indonesia ke-7, Joko Widodo memberika...</td>\n",
       "    </tr>\n",
       "  </tbody>\n",
       "</table>\n",
       "</div>"
      ],
      "text/plain": [
       "                                       article_title article_author  \\\n",
       "2  Respons Projo setelah Jokowi dan Keluarga Dipe...  CNN Indonesia   \n",
       "3  VIDEO: Nasdem Sebut Terbuka Bagi Jokowi Kalo I...  CNN Indonesia   \n",
       "4  VIDEO:PDIP Pecat Jokowi, Gibran, Bobby, Siti Z...  CNN Indonesia   \n",
       "5  Beda Respons Jokowi, Gibran, dan Bobby Usai Di...  CNN Indonesia   \n",
       "6  VIDEO: Dipecat PDIP, Jokowi: Ndak Apa, Waktu Y...  CNN Indonesia   \n",
       "\n",
       "  article_publication_date                                    article_content  \n",
       "2               18-12-2024  Organisasi relawan pendukung Presiden ketujuh ...  \n",
       "3               18-12-2024  Ketua DPP Partai Nasdem Willy Aditya menyebut ...  \n",
       "4               18-12-2024  Pengamat politik sekaligus peneliti Badan Rise...  \n",
       "5               18-12-2024  Presiden ke-7 RI Joko Widodo, Wakil Presiden G...  \n",
       "6               18-12-2024  Presiden Indonesia ke-7, Joko Widodo memberika...  "
      ]
     },
     "execution_count": 17,
     "metadata": {},
     "output_type": "execute_result"
    }
   ],
   "source": [
    "# Display the first few rows after preprocessing\n",
    "df.head()"
   ]
  },
  {
   "cell_type": "code",
   "execution_count": 18,
   "id": "79d05fbb-b74b-4579-8214-d5974cdfc24e",
   "metadata": {},
   "outputs": [
    {
     "name": "stdout",
     "output_type": "stream",
     "text": [
      "Success saved article data to csv\n"
     ]
    }
   ],
   "source": [
    "# Save preprocessing data to csv\n",
    "try:    \n",
    "    df.to_csv('cnnindonesia_preprocessed_news_data.csv', sep='\\t', encoding='utf-8', index=False, header=True)\n",
    "    print('Success saved article data to csv')\n",
    "except Exception as e:\n",
    "    print(f'Error occured while saved article data to csv: {e}')"
   ]
  }
 ],
 "metadata": {
  "kernelspec": {
   "display_name": "python-venv",
   "language": "python",
   "name": "python-venv"
  },
  "language_info": {
   "codemirror_mode": {
    "name": "ipython",
    "version": 3
   },
   "file_extension": ".py",
   "mimetype": "text/x-python",
   "name": "python",
   "nbconvert_exporter": "python",
   "pygments_lexer": "ipython3",
   "version": "3.13.0"
  }
 },
 "nbformat": 4,
 "nbformat_minor": 5
}
