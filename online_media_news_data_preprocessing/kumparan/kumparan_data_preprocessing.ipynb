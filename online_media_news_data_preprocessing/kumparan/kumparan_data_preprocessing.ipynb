{
 "cells": [
  {
   "cell_type": "code",
   "execution_count": 80,
   "id": "3e872c68-3360-4da8-b543-f6cf9f300e1c",
   "metadata": {},
   "outputs": [],
   "source": [
    "import pandas as pd"
   ]
  },
  {
   "cell_type": "code",
   "execution_count": 64,
   "id": "353514cd-f453-45eb-98e9-0d779fb9e675",
   "metadata": {},
   "outputs": [
    {
     "data": {
      "text/html": [
       "<div>\n",
       "<style scoped>\n",
       "    .dataframe tbody tr th:only-of-type {\n",
       "        vertical-align: middle;\n",
       "    }\n",
       "\n",
       "    .dataframe tbody tr th {\n",
       "        vertical-align: top;\n",
       "    }\n",
       "\n",
       "    .dataframe thead th {\n",
       "        text-align: right;\n",
       "    }\n",
       "</style>\n",
       "<table border=\"1\" class=\"dataframe\">\n",
       "  <thead>\n",
       "    <tr style=\"text-align: right;\">\n",
       "      <th></th>\n",
       "      <th>article_title</th>\n",
       "      <th>article_author</th>\n",
       "      <th>article_publication_date</th>\n",
       "      <th>article_content</th>\n",
       "    </tr>\n",
       "  </thead>\n",
       "  <tbody>\n",
       "    <tr>\n",
       "      <th>0</th>\n",
       "      <td>Respon Instruksi Presiden Jokowi, Kadiv Keimig...</td>\n",
       "      <td>Rutan Salatiga</td>\n",
       "      <td>2022-10-10T08:12:44.938803Z</td>\n",
       "      <td>SEMARANG - Menjadi Pembina Apel Pagi hari ini,...</td>\n",
       "    </tr>\n",
       "    <tr>\n",
       "      <th>1</th>\n",
       "      <td>Kata Bobby soal Kabar Jokowi-Gibran Akan Masuk...</td>\n",
       "      <td>Salmah Muslimah</td>\n",
       "      <td>2024-12-19T06:59:44.047699Z</td>\n",
       "      <td>Presiden ke-7 RI Joko Widodo, dan Wapres RI, G...</td>\n",
       "    </tr>\n",
       "    <tr>\n",
       "      <th>2</th>\n",
       "      <td>Loyalis Jokowi Mulai Beralih ke Prabowo, Ganja...</td>\n",
       "      <td>JatimNow</td>\n",
       "      <td>2023-02-27T00:45:05.818943Z</td>\n",
       "      <td>jatimnow.com\\nDi dalam surveinya, ia menemukan...</td>\n",
       "    </tr>\n",
       "    <tr>\n",
       "      <th>3</th>\n",
       "      <td>Jokowi: Memang Masih Ditemukan Kasus Intoleran...</td>\n",
       "      <td>Wisnu Prasetiyo</td>\n",
       "      <td>2023-08-29T06:41:27.831344Z</td>\n",
       "      <td>Presiden Jokowi berbicara soal toleransi di ac...</td>\n",
       "    </tr>\n",
       "    <tr>\n",
       "      <th>4</th>\n",
       "      <td>Jokowi Cabut PPKM, Khofifah Minta Warga Jatim ...</td>\n",
       "      <td>JatimNow</td>\n",
       "      <td>2022-12-30T11:25:00.60461Z</td>\n",
       "      <td>jatimnow.com\\nMenyikapi hal itu, Gubernur Jawa...</td>\n",
       "    </tr>\n",
       "  </tbody>\n",
       "</table>\n",
       "</div>"
      ],
      "text/plain": [
       "                                       article_title   article_author  \\\n",
       "0  Respon Instruksi Presiden Jokowi, Kadiv Keimig...   Rutan Salatiga   \n",
       "1  Kata Bobby soal Kabar Jokowi-Gibran Akan Masuk...  Salmah Muslimah   \n",
       "2  Loyalis Jokowi Mulai Beralih ke Prabowo, Ganja...         JatimNow   \n",
       "3  Jokowi: Memang Masih Ditemukan Kasus Intoleran...  Wisnu Prasetiyo   \n",
       "4  Jokowi Cabut PPKM, Khofifah Minta Warga Jatim ...         JatimNow   \n",
       "\n",
       "      article_publication_date  \\\n",
       "0  2022-10-10T08:12:44.938803Z   \n",
       "1  2024-12-19T06:59:44.047699Z   \n",
       "2  2023-02-27T00:45:05.818943Z   \n",
       "3  2023-08-29T06:41:27.831344Z   \n",
       "4   2022-12-30T11:25:00.60461Z   \n",
       "\n",
       "                                     article_content  \n",
       "0  SEMARANG - Menjadi Pembina Apel Pagi hari ini,...  \n",
       "1  Presiden ke-7 RI Joko Widodo, dan Wapres RI, G...  \n",
       "2  jatimnow.com\\nDi dalam surveinya, ia menemukan...  \n",
       "3  Presiden Jokowi berbicara soal toleransi di ac...  \n",
       "4  jatimnow.com\\nMenyikapi hal itu, Gubernur Jawa...  "
      ]
     },
     "execution_count": 64,
     "metadata": {},
     "output_type": "execute_result"
    }
   ],
   "source": [
    "df = pd.read_csv('kumparan_unprocessed_news_data.csv', sep='\\t')\n",
    "\n",
    "# Display the first few rows\n",
    "df.head()"
   ]
  },
  {
   "cell_type": "code",
   "execution_count": 65,
   "id": "afb2b340-b626-4daa-85d6-e3dd6d60355b",
   "metadata": {},
   "outputs": [
    {
     "data": {
      "text/plain": [
       "(500, 4)"
      ]
     },
     "execution_count": 65,
     "metadata": {},
     "output_type": "execute_result"
    }
   ],
   "source": [
    "# Display the the number of rows x columns\n",
    "df.shape"
   ]
  },
  {
   "cell_type": "code",
   "execution_count": 66,
   "id": "342c98c3-e6da-46f9-b038-a29071ad837e",
   "metadata": {},
   "outputs": [
    {
     "data": {
      "text/html": [
       "<div>\n",
       "<style scoped>\n",
       "    .dataframe tbody tr th:only-of-type {\n",
       "        vertical-align: middle;\n",
       "    }\n",
       "\n",
       "    .dataframe tbody tr th {\n",
       "        vertical-align: top;\n",
       "    }\n",
       "\n",
       "    .dataframe thead th {\n",
       "        text-align: right;\n",
       "    }\n",
       "</style>\n",
       "<table border=\"1\" class=\"dataframe\">\n",
       "  <thead>\n",
       "    <tr style=\"text-align: right;\">\n",
       "      <th></th>\n",
       "      <th>article_title</th>\n",
       "      <th>article_author</th>\n",
       "      <th>article_publication_date</th>\n",
       "      <th>article_content</th>\n",
       "    </tr>\n",
       "  </thead>\n",
       "  <tbody>\n",
       "    <tr>\n",
       "      <th>count</th>\n",
       "      <td>500</td>\n",
       "      <td>500</td>\n",
       "      <td>500</td>\n",
       "      <td>499</td>\n",
       "    </tr>\n",
       "    <tr>\n",
       "      <th>unique</th>\n",
       "      <td>494</td>\n",
       "      <td>85</td>\n",
       "      <td>494</td>\n",
       "      <td>493</td>\n",
       "    </tr>\n",
       "    <tr>\n",
       "      <th>top</th>\n",
       "      <td>Bahlil Lahadalia: Capres Kalau Mau Menang, Bai...</td>\n",
       "      <td>Ahmad Romadoni</td>\n",
       "      <td>2023-05-03T10:43:37.902334Z</td>\n",
       "      <td>Tingkat kepuasan masyarakat terhadap kinerja p...</td>\n",
       "    </tr>\n",
       "    <tr>\n",
       "      <th>freq</th>\n",
       "      <td>2</td>\n",
       "      <td>45</td>\n",
       "      <td>2</td>\n",
       "      <td>2</td>\n",
       "    </tr>\n",
       "  </tbody>\n",
       "</table>\n",
       "</div>"
      ],
      "text/plain": [
       "                                            article_title  article_author  \\\n",
       "count                                                 500             500   \n",
       "unique                                                494              85   \n",
       "top     Bahlil Lahadalia: Capres Kalau Mau Menang, Bai...  Ahmad Romadoni   \n",
       "freq                                                    2              45   \n",
       "\n",
       "           article_publication_date  \\\n",
       "count                           500   \n",
       "unique                          494   \n",
       "top     2023-05-03T10:43:37.902334Z   \n",
       "freq                              2   \n",
       "\n",
       "                                          article_content  \n",
       "count                                                 499  \n",
       "unique                                                493  \n",
       "top     Tingkat kepuasan masyarakat terhadap kinerja p...  \n",
       "freq                                                    2  "
      ]
     },
     "execution_count": 66,
     "metadata": {},
     "output_type": "execute_result"
    }
   ],
   "source": [
    "# Summary statistics\n",
    "df.describe()"
   ]
  },
  {
   "cell_type": "code",
   "execution_count": 67,
   "id": "93dece56-153d-4695-8381-a35ff43aa3fc",
   "metadata": {},
   "outputs": [
    {
     "name": "stdout",
     "output_type": "stream",
     "text": [
      "<class 'pandas.core.frame.DataFrame'>\n",
      "RangeIndex: 500 entries, 0 to 499\n",
      "Data columns (total 4 columns):\n",
      " #   Column                    Non-Null Count  Dtype \n",
      "---  ------                    --------------  ----- \n",
      " 0   article_title             500 non-null    object\n",
      " 1   article_author            500 non-null    object\n",
      " 2   article_publication_date  500 non-null    object\n",
      " 3   article_content           499 non-null    object\n",
      "dtypes: object(4)\n",
      "memory usage: 15.8+ KB\n"
     ]
    }
   ],
   "source": [
    "# Information about the dataset\n",
    "df.info()"
   ]
  },
  {
   "cell_type": "code",
   "execution_count": 68,
   "id": "684038dc-f24e-4fcf-8176-a001d8dcb05f",
   "metadata": {},
   "outputs": [
    {
     "data": {
      "text/plain": [
       "article_title               0\n",
       "article_author              0\n",
       "article_publication_date    0\n",
       "article_content             1\n",
       "dtype: int64"
      ]
     },
     "execution_count": 68,
     "metadata": {},
     "output_type": "execute_result"
    }
   ],
   "source": [
    "# Check for missing values\n",
    "df.isnull().sum()"
   ]
  },
  {
   "cell_type": "code",
   "execution_count": 69,
   "id": "ce60b064-d676-4af5-b7bf-50d33c1a290a",
   "metadata": {},
   "outputs": [
    {
     "data": {
      "text/plain": [
       "article_title               0\n",
       "article_author              0\n",
       "article_publication_date    0\n",
       "article_content             0\n",
       "dtype: int64"
      ]
     },
     "execution_count": 69,
     "metadata": {},
     "output_type": "execute_result"
    }
   ],
   "source": [
    "# Drop row the the missing value found\n",
    "df.dropna(inplace=True)\n",
    "\n",
    "df.isnull().sum()"
   ]
  },
  {
   "cell_type": "code",
   "execution_count": 70,
   "id": "dfc475ae-fc97-4c89-bd3d-efdf5e3a2845",
   "metadata": {},
   "outputs": [
    {
     "data": {
      "text/plain": [
       "np.int64(6)"
      ]
     },
     "execution_count": 70,
     "metadata": {},
     "output_type": "execute_result"
    }
   ],
   "source": [
    "# Check for duplicates\n",
    "df.duplicated().sum()"
   ]
  },
  {
   "cell_type": "code",
   "execution_count": 71,
   "id": "37a2729f-99b1-406f-94b6-30b115ceaaa6",
   "metadata": {},
   "outputs": [
    {
     "data": {
      "text/plain": [
       "np.int64(0)"
      ]
     },
     "execution_count": 71,
     "metadata": {},
     "output_type": "execute_result"
    }
   ],
   "source": [
    "# Remove duplicates\n",
    "df.drop_duplicates(inplace=True)\n",
    "\n",
    "df.duplicated().sum()"
   ]
  },
  {
   "cell_type": "code",
   "execution_count": 72,
   "id": "3eb7a687-5fb9-4872-a52b-1978dd06ccb4",
   "metadata": {},
   "outputs": [
    {
     "data": {
      "text/plain": [
       "np.int64(2)"
      ]
     },
     "execution_count": 72,
     "metadata": {},
     "output_type": "execute_result"
    }
   ],
   "source": [
    "# Check row where article_title column not contain Jokowi keyword\n",
    "(~df['article_title'].str.contains('Jokowi', na=False)).sum()"
   ]
  },
  {
   "cell_type": "code",
   "execution_count": 73,
   "id": "f51ef857-4f42-43cb-a840-b84662ca1aaf",
   "metadata": {},
   "outputs": [
    {
     "data": {
      "text/plain": [
       "np.int64(0)"
      ]
     },
     "execution_count": 73,
     "metadata": {},
     "output_type": "execute_result"
    }
   ],
   "source": [
    "# Remove row where artilce_title column not contain Jokowi keyword\n",
    "df = df[df['article_title'].str.contains('Jokowi', na=False)]\n",
    "\n",
    "(~df['article_title'].str.contains('Jokowi', na=False)).sum()"
   ]
  },
  {
   "cell_type": "code",
   "execution_count": 74,
   "id": "a0e9bcae-55c2-4de4-b666-3f9f442a6393",
   "metadata": {},
   "outputs": [
    {
     "data": {
      "text/html": [
       "<div>\n",
       "<style scoped>\n",
       "    .dataframe tbody tr th:only-of-type {\n",
       "        vertical-align: middle;\n",
       "    }\n",
       "\n",
       "    .dataframe tbody tr th {\n",
       "        vertical-align: top;\n",
       "    }\n",
       "\n",
       "    .dataframe thead th {\n",
       "        text-align: right;\n",
       "    }\n",
       "</style>\n",
       "<table border=\"1\" class=\"dataframe\">\n",
       "  <thead>\n",
       "    <tr style=\"text-align: right;\">\n",
       "      <th></th>\n",
       "      <th>article_title</th>\n",
       "      <th>article_author</th>\n",
       "      <th>article_publication_date</th>\n",
       "      <th>article_content</th>\n",
       "    </tr>\n",
       "  </thead>\n",
       "  <tbody>\n",
       "    <tr>\n",
       "      <th>0</th>\n",
       "      <td>Respon Instruksi Presiden Jokowi, Kadiv Keimig...</td>\n",
       "      <td>Rutan Salatiga</td>\n",
       "      <td>10-10-2022</td>\n",
       "      <td>SEMARANG - Menjadi Pembina Apel Pagi hari ini,...</td>\n",
       "    </tr>\n",
       "    <tr>\n",
       "      <th>1</th>\n",
       "      <td>Kata Bobby soal Kabar Jokowi-Gibran Akan Masuk...</td>\n",
       "      <td>Salmah Muslimah</td>\n",
       "      <td>19-12-2024</td>\n",
       "      <td>Presiden ke-7 RI Joko Widodo, dan Wapres RI, G...</td>\n",
       "    </tr>\n",
       "    <tr>\n",
       "      <th>2</th>\n",
       "      <td>Loyalis Jokowi Mulai Beralih ke Prabowo, Ganja...</td>\n",
       "      <td>JatimNow</td>\n",
       "      <td>27-02-2023</td>\n",
       "      <td>jatimnow.com\\nDi dalam surveinya, ia menemukan...</td>\n",
       "    </tr>\n",
       "    <tr>\n",
       "      <th>3</th>\n",
       "      <td>Jokowi: Memang Masih Ditemukan Kasus Intoleran...</td>\n",
       "      <td>Wisnu Prasetiyo</td>\n",
       "      <td>29-08-2023</td>\n",
       "      <td>Presiden Jokowi berbicara soal toleransi di ac...</td>\n",
       "    </tr>\n",
       "    <tr>\n",
       "      <th>4</th>\n",
       "      <td>Jokowi Cabut PPKM, Khofifah Minta Warga Jatim ...</td>\n",
       "      <td>JatimNow</td>\n",
       "      <td>30-12-2022</td>\n",
       "      <td>jatimnow.com\\nMenyikapi hal itu, Gubernur Jawa...</td>\n",
       "    </tr>\n",
       "  </tbody>\n",
       "</table>\n",
       "</div>"
      ],
      "text/plain": [
       "                                       article_title   article_author  \\\n",
       "0  Respon Instruksi Presiden Jokowi, Kadiv Keimig...   Rutan Salatiga   \n",
       "1  Kata Bobby soal Kabar Jokowi-Gibran Akan Masuk...  Salmah Muslimah   \n",
       "2  Loyalis Jokowi Mulai Beralih ke Prabowo, Ganja...         JatimNow   \n",
       "3  Jokowi: Memang Masih Ditemukan Kasus Intoleran...  Wisnu Prasetiyo   \n",
       "4  Jokowi Cabut PPKM, Khofifah Minta Warga Jatim ...         JatimNow   \n",
       "\n",
       "  article_publication_date                                    article_content  \n",
       "0               10-10-2022  SEMARANG - Menjadi Pembina Apel Pagi hari ini,...  \n",
       "1               19-12-2024  Presiden ke-7 RI Joko Widodo, dan Wapres RI, G...  \n",
       "2               27-02-2023  jatimnow.com\\nDi dalam surveinya, ia menemukan...  \n",
       "3               29-08-2023  Presiden Jokowi berbicara soal toleransi di ac...  \n",
       "4               30-12-2022  jatimnow.com\\nMenyikapi hal itu, Gubernur Jawa...  "
      ]
     },
     "execution_count": 74,
     "metadata": {},
     "output_type": "execute_result"
    }
   ],
   "source": [
    "# Format article_publication date\n",
    "df['article_publication_date'] = pd.to_datetime(df['article_publication_date']).dt.strftime('%d-%m-%Y')\n",
    "df.head()"
   ]
  },
  {
   "cell_type": "code",
   "execution_count": 75,
   "id": "17e61b88-e1ff-43c1-98ce-db1120962b33",
   "metadata": {},
   "outputs": [
    {
     "data": {
      "text/plain": [
       "(491, 4)"
      ]
     },
     "execution_count": 75,
     "metadata": {},
     "output_type": "execute_result"
    }
   ],
   "source": [
    "# Display the the number of rows x columns after preprocessing\n",
    "df.shape"
   ]
  },
  {
   "cell_type": "code",
   "execution_count": 76,
   "id": "300347bc-b898-4ff3-a41a-3ec745685e2a",
   "metadata": {},
   "outputs": [
    {
     "data": {
      "text/html": [
       "<div>\n",
       "<style scoped>\n",
       "    .dataframe tbody tr th:only-of-type {\n",
       "        vertical-align: middle;\n",
       "    }\n",
       "\n",
       "    .dataframe tbody tr th {\n",
       "        vertical-align: top;\n",
       "    }\n",
       "\n",
       "    .dataframe thead th {\n",
       "        text-align: right;\n",
       "    }\n",
       "</style>\n",
       "<table border=\"1\" class=\"dataframe\">\n",
       "  <thead>\n",
       "    <tr style=\"text-align: right;\">\n",
       "      <th></th>\n",
       "      <th>article_title</th>\n",
       "      <th>article_author</th>\n",
       "      <th>article_publication_date</th>\n",
       "      <th>article_content</th>\n",
       "    </tr>\n",
       "  </thead>\n",
       "  <tbody>\n",
       "    <tr>\n",
       "      <th>count</th>\n",
       "      <td>491</td>\n",
       "      <td>491</td>\n",
       "      <td>491</td>\n",
       "      <td>491</td>\n",
       "    </tr>\n",
       "    <tr>\n",
       "      <th>unique</th>\n",
       "      <td>491</td>\n",
       "      <td>83</td>\n",
       "      <td>264</td>\n",
       "      <td>491</td>\n",
       "    </tr>\n",
       "    <tr>\n",
       "      <th>top</th>\n",
       "      <td>Forum Purnawirawan untuk Perubahan Desak Jokow...</td>\n",
       "      <td>Ahmad Romadoni</td>\n",
       "      <td>24-01-2024</td>\n",
       "      <td>Forum Komunikasi Purnawirawan TNI Polri untuk ...</td>\n",
       "    </tr>\n",
       "    <tr>\n",
       "      <th>freq</th>\n",
       "      <td>1</td>\n",
       "      <td>44</td>\n",
       "      <td>11</td>\n",
       "      <td>1</td>\n",
       "    </tr>\n",
       "  </tbody>\n",
       "</table>\n",
       "</div>"
      ],
      "text/plain": [
       "                                            article_title  article_author  \\\n",
       "count                                                 491             491   \n",
       "unique                                                491              83   \n",
       "top     Forum Purnawirawan untuk Perubahan Desak Jokow...  Ahmad Romadoni   \n",
       "freq                                                    1              44   \n",
       "\n",
       "       article_publication_date  \\\n",
       "count                       491   \n",
       "unique                      264   \n",
       "top                  24-01-2024   \n",
       "freq                         11   \n",
       "\n",
       "                                          article_content  \n",
       "count                                                 491  \n",
       "unique                                                491  \n",
       "top     Forum Komunikasi Purnawirawan TNI Polri untuk ...  \n",
       "freq                                                    1  "
      ]
     },
     "execution_count": 76,
     "metadata": {},
     "output_type": "execute_result"
    }
   ],
   "source": [
    "# Summary statistics after preprocessing\n",
    "df.describe()"
   ]
  },
  {
   "cell_type": "code",
   "execution_count": 77,
   "id": "8f8c933e-e279-4605-a5a0-8be78e229d42",
   "metadata": {},
   "outputs": [
    {
     "name": "stdout",
     "output_type": "stream",
     "text": [
      "<class 'pandas.core.frame.DataFrame'>\n",
      "Index: 491 entries, 0 to 499\n",
      "Data columns (total 4 columns):\n",
      " #   Column                    Non-Null Count  Dtype \n",
      "---  ------                    --------------  ----- \n",
      " 0   article_title             491 non-null    object\n",
      " 1   article_author            491 non-null    object\n",
      " 2   article_publication_date  491 non-null    object\n",
      " 3   article_content           491 non-null    object\n",
      "dtypes: object(4)\n",
      "memory usage: 19.2+ KB\n"
     ]
    }
   ],
   "source": [
    "# Information about the dataset after preprocessing\n",
    "df.info()"
   ]
  },
  {
   "cell_type": "code",
   "execution_count": 78,
   "id": "b9fbe12b-367d-4a28-8776-a38bf2102a69",
   "metadata": {},
   "outputs": [
    {
     "data": {
      "text/html": [
       "<div>\n",
       "<style scoped>\n",
       "    .dataframe tbody tr th:only-of-type {\n",
       "        vertical-align: middle;\n",
       "    }\n",
       "\n",
       "    .dataframe tbody tr th {\n",
       "        vertical-align: top;\n",
       "    }\n",
       "\n",
       "    .dataframe thead th {\n",
       "        text-align: right;\n",
       "    }\n",
       "</style>\n",
       "<table border=\"1\" class=\"dataframe\">\n",
       "  <thead>\n",
       "    <tr style=\"text-align: right;\">\n",
       "      <th></th>\n",
       "      <th>article_title</th>\n",
       "      <th>article_author</th>\n",
       "      <th>article_publication_date</th>\n",
       "      <th>article_content</th>\n",
       "    </tr>\n",
       "  </thead>\n",
       "  <tbody>\n",
       "    <tr>\n",
       "      <th>0</th>\n",
       "      <td>Respon Instruksi Presiden Jokowi, Kadiv Keimig...</td>\n",
       "      <td>Rutan Salatiga</td>\n",
       "      <td>10-10-2022</td>\n",
       "      <td>SEMARANG - Menjadi Pembina Apel Pagi hari ini,...</td>\n",
       "    </tr>\n",
       "    <tr>\n",
       "      <th>1</th>\n",
       "      <td>Kata Bobby soal Kabar Jokowi-Gibran Akan Masuk...</td>\n",
       "      <td>Salmah Muslimah</td>\n",
       "      <td>19-12-2024</td>\n",
       "      <td>Presiden ke-7 RI Joko Widodo, dan Wapres RI, G...</td>\n",
       "    </tr>\n",
       "    <tr>\n",
       "      <th>2</th>\n",
       "      <td>Loyalis Jokowi Mulai Beralih ke Prabowo, Ganja...</td>\n",
       "      <td>JatimNow</td>\n",
       "      <td>27-02-2023</td>\n",
       "      <td>jatimnow.com\\nDi dalam surveinya, ia menemukan...</td>\n",
       "    </tr>\n",
       "    <tr>\n",
       "      <th>3</th>\n",
       "      <td>Jokowi: Memang Masih Ditemukan Kasus Intoleran...</td>\n",
       "      <td>Wisnu Prasetiyo</td>\n",
       "      <td>29-08-2023</td>\n",
       "      <td>Presiden Jokowi berbicara soal toleransi di ac...</td>\n",
       "    </tr>\n",
       "    <tr>\n",
       "      <th>4</th>\n",
       "      <td>Jokowi Cabut PPKM, Khofifah Minta Warga Jatim ...</td>\n",
       "      <td>JatimNow</td>\n",
       "      <td>30-12-2022</td>\n",
       "      <td>jatimnow.com\\nMenyikapi hal itu, Gubernur Jawa...</td>\n",
       "    </tr>\n",
       "  </tbody>\n",
       "</table>\n",
       "</div>"
      ],
      "text/plain": [
       "                                       article_title   article_author  \\\n",
       "0  Respon Instruksi Presiden Jokowi, Kadiv Keimig...   Rutan Salatiga   \n",
       "1  Kata Bobby soal Kabar Jokowi-Gibran Akan Masuk...  Salmah Muslimah   \n",
       "2  Loyalis Jokowi Mulai Beralih ke Prabowo, Ganja...         JatimNow   \n",
       "3  Jokowi: Memang Masih Ditemukan Kasus Intoleran...  Wisnu Prasetiyo   \n",
       "4  Jokowi Cabut PPKM, Khofifah Minta Warga Jatim ...         JatimNow   \n",
       "\n",
       "  article_publication_date                                    article_content  \n",
       "0               10-10-2022  SEMARANG - Menjadi Pembina Apel Pagi hari ini,...  \n",
       "1               19-12-2024  Presiden ke-7 RI Joko Widodo, dan Wapres RI, G...  \n",
       "2               27-02-2023  jatimnow.com\\nDi dalam surveinya, ia menemukan...  \n",
       "3               29-08-2023  Presiden Jokowi berbicara soal toleransi di ac...  \n",
       "4               30-12-2022  jatimnow.com\\nMenyikapi hal itu, Gubernur Jawa...  "
      ]
     },
     "execution_count": 78,
     "metadata": {},
     "output_type": "execute_result"
    }
   ],
   "source": [
    "# Display the first few rows after preprocessing\n",
    "df.head()"
   ]
  },
  {
   "cell_type": "code",
   "execution_count": 79,
   "id": "8736ccba-989f-4772-9e06-c812c4a0dc17",
   "metadata": {},
   "outputs": [
    {
     "name": "stdout",
     "output_type": "stream",
     "text": [
      "Success saved article data to csv\n"
     ]
    }
   ],
   "source": [
    "# Save preprocessing data to csv\n",
    "try:    \n",
    "    df.to_csv('kumparan_preprocessed_news_data.csv', sep='\\t', encoding='utf-8', index=False, header=True)\n",
    "    print('Success saved article data to csv')\n",
    "except Exception as e:\n",
    "    print(f'Error occured while saved article data to csv: {e}')"
   ]
  }
 ],
 "metadata": {
  "kernelspec": {
   "display_name": "python-venv",
   "language": "python",
   "name": "python-venv"
  },
  "language_info": {
   "codemirror_mode": {
    "name": "ipython",
    "version": 3
   },
   "file_extension": ".py",
   "mimetype": "text/x-python",
   "name": "python",
   "nbconvert_exporter": "python",
   "pygments_lexer": "ipython3",
   "version": "3.13.0"
  }
 },
 "nbformat": 4,
 "nbformat_minor": 5
}
