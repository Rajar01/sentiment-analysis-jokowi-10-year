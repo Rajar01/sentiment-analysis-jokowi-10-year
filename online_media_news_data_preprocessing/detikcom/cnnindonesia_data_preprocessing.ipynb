{
 "cells": [
  {
   "cell_type": "code",
   "execution_count": 19,
   "id": "011ecc6a-2dbc-42bc-8a73-36f9a56392a6",
   "metadata": {},
   "outputs": [],
   "source": [
    "import pandas as pd\n",
    "import re\n",
    "from datetime import datetime"
   ]
  },
  {
   "cell_type": "code",
   "execution_count": 4,
   "id": "cd0fbce0-e694-4b11-93b3-caa5f44fd6a3",
   "metadata": {},
   "outputs": [
    {
     "data": {
      "text/html": [
       "<div>\n",
       "<style scoped>\n",
       "    .dataframe tbody tr th:only-of-type {\n",
       "        vertical-align: middle;\n",
       "    }\n",
       "\n",
       "    .dataframe tbody tr th {\n",
       "        vertical-align: top;\n",
       "    }\n",
       "\n",
       "    .dataframe thead th {\n",
       "        text-align: right;\n",
       "    }\n",
       "</style>\n",
       "<table border=\"1\" class=\"dataframe\">\n",
       "  <thead>\n",
       "    <tr style=\"text-align: right;\">\n",
       "      <th></th>\n",
       "      <th>article_title</th>\n",
       "      <th>article_author</th>\n",
       "      <th>article_publication_date</th>\n",
       "      <th>article_content</th>\n",
       "    </tr>\n",
       "  </thead>\n",
       "  <tbody>\n",
       "    <tr>\n",
       "      <th>0</th>\n",
       "      <td>Diresmikan Jokowi, PTPP Rampungkan Proyek Jala...</td>\n",
       "      <td>Hana Nushratu - detikFinance</td>\n",
       "      <td>Minggu, 20 Okt 2024 23:55 WIB</td>\n",
       "      <td>PT PP (Persero) Tbk sebagai salah satu BUMN Ko...</td>\n",
       "    </tr>\n",
       "    <tr>\n",
       "      <th>1</th>\n",
       "      <td>Agenda Jokowi Usai Pulang ke Solo: Tidur</td>\n",
       "      <td>Tara Wahyu NV - detikJateng</td>\n",
       "      <td>Minggu, 20 Okt 2024 22:33 WIB</td>\n",
       "      <td>Presiden ke-7 RI, Joko Widodo (Jokowi) mengaku...</td>\n",
       "    </tr>\n",
       "    <tr>\n",
       "      <th>2</th>\n",
       "      <td>Kepulangan Jokowi ke Solo Disambut Warga hingg...</td>\n",
       "      <td>Hana Nushratu - detikNews</td>\n",
       "      <td>Minggu, 20 Okt 2024 23:12 WIB</td>\n",
       "      <td>Presiden Republik Indonesia periode 2014-2024 ...</td>\n",
       "    </tr>\n",
       "    <tr>\n",
       "      <th>3</th>\n",
       "      <td>Disambut Antusias Masyarakat Saat Pulang ke So...</td>\n",
       "      <td>Tara Wahyu NV - detikJateng</td>\n",
       "      <td>Minggu, 20 Okt 2024 22:28 WIB</td>\n",
       "      <td>Presiden ke-7 Republik Indonesia (RI) Joko Wid...</td>\n",
       "    </tr>\n",
       "    <tr>\n",
       "      <th>4</th>\n",
       "      <td>Sejumlah Calon Kepala Daerah Bertemu Jokowi di...</td>\n",
       "      <td>Tara Wahyu NV - detikJateng</td>\n",
       "      <td>Minggu, 20 Okt 2024 22:09 WIB</td>\n",
       "      <td>Sejumlah calon kepala daerah bertemu Presiden ...</td>\n",
       "    </tr>\n",
       "  </tbody>\n",
       "</table>\n",
       "</div>"
      ],
      "text/plain": [
       "                                       article_title  \\\n",
       "0  Diresmikan Jokowi, PTPP Rampungkan Proyek Jala...   \n",
       "1           Agenda Jokowi Usai Pulang ke Solo: Tidur   \n",
       "2  Kepulangan Jokowi ke Solo Disambut Warga hingg...   \n",
       "3  Disambut Antusias Masyarakat Saat Pulang ke So...   \n",
       "4  Sejumlah Calon Kepala Daerah Bertemu Jokowi di...   \n",
       "\n",
       "                 article_author       article_publication_date  \\\n",
       "0  Hana Nushratu - detikFinance  Minggu, 20 Okt 2024 23:55 WIB   \n",
       "1   Tara Wahyu NV - detikJateng  Minggu, 20 Okt 2024 22:33 WIB   \n",
       "2     Hana Nushratu - detikNews  Minggu, 20 Okt 2024 23:12 WIB   \n",
       "3   Tara Wahyu NV - detikJateng  Minggu, 20 Okt 2024 22:28 WIB   \n",
       "4   Tara Wahyu NV - detikJateng  Minggu, 20 Okt 2024 22:09 WIB   \n",
       "\n",
       "                                     article_content  \n",
       "0  PT PP (Persero) Tbk sebagai salah satu BUMN Ko...  \n",
       "1  Presiden ke-7 RI, Joko Widodo (Jokowi) mengaku...  \n",
       "2  Presiden Republik Indonesia periode 2014-2024 ...  \n",
       "3  Presiden ke-7 Republik Indonesia (RI) Joko Wid...  \n",
       "4  Sejumlah calon kepala daerah bertemu Presiden ...  "
      ]
     },
     "execution_count": 4,
     "metadata": {},
     "output_type": "execute_result"
    }
   ],
   "source": [
    "df = pd.read_csv('detikcom_unprocessed_news_data.csv', sep='\\t')\n",
    "\n",
    "# Display the first few rows\n",
    "df.head()"
   ]
  },
  {
   "cell_type": "code",
   "execution_count": 5,
   "id": "85f7ee1e-fcb1-4d15-af0b-ff1b43bb128c",
   "metadata": {},
   "outputs": [
    {
     "data": {
      "text/plain": [
       "(706, 4)"
      ]
     },
     "execution_count": 5,
     "metadata": {},
     "output_type": "execute_result"
    }
   ],
   "source": [
    "# Display the the number of rows x columns\n",
    "df.shape"
   ]
  },
  {
   "cell_type": "code",
   "execution_count": 6,
   "id": "87169c34-1996-438e-89c3-c824ad440849",
   "metadata": {},
   "outputs": [
    {
     "data": {
      "text/html": [
       "<div>\n",
       "<style scoped>\n",
       "    .dataframe tbody tr th:only-of-type {\n",
       "        vertical-align: middle;\n",
       "    }\n",
       "\n",
       "    .dataframe tbody tr th {\n",
       "        vertical-align: top;\n",
       "    }\n",
       "\n",
       "    .dataframe thead th {\n",
       "        text-align: right;\n",
       "    }\n",
       "</style>\n",
       "<table border=\"1\" class=\"dataframe\">\n",
       "  <thead>\n",
       "    <tr style=\"text-align: right;\">\n",
       "      <th></th>\n",
       "      <th>article_title</th>\n",
       "      <th>article_author</th>\n",
       "      <th>article_publication_date</th>\n",
       "      <th>article_content</th>\n",
       "    </tr>\n",
       "  </thead>\n",
       "  <tbody>\n",
       "    <tr>\n",
       "      <th>count</th>\n",
       "      <td>667</td>\n",
       "      <td>667</td>\n",
       "      <td>667</td>\n",
       "      <td>654</td>\n",
       "    </tr>\n",
       "    <tr>\n",
       "      <th>unique</th>\n",
       "      <td>654</td>\n",
       "      <td>161</td>\n",
       "      <td>648</td>\n",
       "      <td>640</td>\n",
       "    </tr>\n",
       "    <tr>\n",
       "      <th>top</th>\n",
       "      <td>Video Said Didu soal Jokowi Makan Malam Bareng...</td>\n",
       "      <td>Eva Safitri - detikNews</td>\n",
       "      <td>Rabu, 16 Okt 2024 21:00 WIB</td>\n",
       "      <td>(nkm/nkm)</td>\n",
       "    </tr>\n",
       "    <tr>\n",
       "      <th>freq</th>\n",
       "      <td>2</td>\n",
       "      <td>107</td>\n",
       "      <td>3</td>\n",
       "      <td>3</td>\n",
       "    </tr>\n",
       "  </tbody>\n",
       "</table>\n",
       "</div>"
      ],
      "text/plain": [
       "                                            article_title  \\\n",
       "count                                                 667   \n",
       "unique                                                654   \n",
       "top     Video Said Didu soal Jokowi Makan Malam Bareng...   \n",
       "freq                                                    2   \n",
       "\n",
       "                 article_author     article_publication_date article_content  \n",
       "count                       667                          667             654  \n",
       "unique                      161                          648             640  \n",
       "top     Eva Safitri - detikNews  Rabu, 16 Okt 2024 21:00 WIB       (nkm/nkm)  \n",
       "freq                        107                            3               3  "
      ]
     },
     "execution_count": 6,
     "metadata": {},
     "output_type": "execute_result"
    }
   ],
   "source": [
    "# Summary statistics\n",
    "df.describe()"
   ]
  },
  {
   "cell_type": "code",
   "execution_count": 7,
   "id": "65b46131-1bf4-443d-95c9-fbfad59d2f20",
   "metadata": {},
   "outputs": [
    {
     "name": "stdout",
     "output_type": "stream",
     "text": [
      "<class 'pandas.core.frame.DataFrame'>\n",
      "RangeIndex: 706 entries, 0 to 705\n",
      "Data columns (total 4 columns):\n",
      " #   Column                    Non-Null Count  Dtype \n",
      "---  ------                    --------------  ----- \n",
      " 0   article_title             667 non-null    object\n",
      " 1   article_author            667 non-null    object\n",
      " 2   article_publication_date  667 non-null    object\n",
      " 3   article_content           654 non-null    object\n",
      "dtypes: object(4)\n",
      "memory usage: 22.2+ KB\n"
     ]
    }
   ],
   "source": [
    "# Information about the dataset\n",
    "df.info()"
   ]
  },
  {
   "cell_type": "code",
   "execution_count": 8,
   "id": "3f8420c2-08f4-47a8-8ad0-bb1bb86f96de",
   "metadata": {},
   "outputs": [
    {
     "data": {
      "text/plain": [
       "article_title               39\n",
       "article_author              39\n",
       "article_publication_date    39\n",
       "article_content             52\n",
       "dtype: int64"
      ]
     },
     "execution_count": 8,
     "metadata": {},
     "output_type": "execute_result"
    }
   ],
   "source": [
    "# Check for missing values\n",
    "df.isnull().sum()"
   ]
  },
  {
   "cell_type": "code",
   "execution_count": 9,
   "id": "4f9dd27f-92e8-4fec-971e-77e9f1b6f060",
   "metadata": {},
   "outputs": [
    {
     "data": {
      "text/plain": [
       "article_title               0\n",
       "article_author              0\n",
       "article_publication_date    0\n",
       "article_content             0\n",
       "dtype: int64"
      ]
     },
     "execution_count": 9,
     "metadata": {},
     "output_type": "execute_result"
    }
   ],
   "source": [
    "# Drop row the the missing value found\n",
    "df.dropna(inplace=True)\n",
    "\n",
    "df.isnull().sum()"
   ]
  },
  {
   "cell_type": "code",
   "execution_count": 10,
   "id": "16763e09-bf99-4b18-a754-6b1674e77980",
   "metadata": {},
   "outputs": [
    {
     "data": {
      "text/plain": [
       "np.int64(12)"
      ]
     },
     "execution_count": 10,
     "metadata": {},
     "output_type": "execute_result"
    }
   ],
   "source": [
    "# Check for duplicates\n",
    "df.duplicated().sum()"
   ]
  },
  {
   "cell_type": "code",
   "execution_count": 11,
   "id": "42382b39-3c26-4b66-94f6-127d78d53831",
   "metadata": {},
   "outputs": [
    {
     "data": {
      "text/plain": [
       "np.int64(0)"
      ]
     },
     "execution_count": 11,
     "metadata": {},
     "output_type": "execute_result"
    }
   ],
   "source": [
    "# Remove duplicates\n",
    "df.drop_duplicates(inplace=True)\n",
    "\n",
    "df.duplicated().sum()"
   ]
  },
  {
   "cell_type": "code",
   "execution_count": 12,
   "id": "24e6cf33-e8a8-4817-a808-289b46b522cc",
   "metadata": {},
   "outputs": [
    {
     "data": {
      "text/plain": [
       "np.int64(3)"
      ]
     },
     "execution_count": 12,
     "metadata": {},
     "output_type": "execute_result"
    }
   ],
   "source": [
    "# Check row where article_title column not contain Jokowi keyword\n",
    "(~df['article_title'].str.contains('Jokowi', na=False)).sum()"
   ]
  },
  {
   "cell_type": "code",
   "execution_count": 13,
   "id": "c1bc8e4c-29b0-4fb1-8738-0ac143ee35d0",
   "metadata": {},
   "outputs": [
    {
     "data": {
      "text/plain": [
       "np.int64(0)"
      ]
     },
     "execution_count": 13,
     "metadata": {},
     "output_type": "execute_result"
    }
   ],
   "source": [
    "# Remove row where artilce_title column not contain Jokowi keyword\n",
    "df = df[df['article_title'].str.contains('Jokowi', na=False)]\n",
    "\n",
    "(~df['article_title'].str.contains('Jokowi', na=False)).sum()"
   ]
  },
  {
   "cell_type": "code",
   "execution_count": 23,
   "id": "01c50192-fb70-4ca6-a3c6-31db89ca0437",
   "metadata": {},
   "outputs": [
    {
     "data": {
      "text/html": [
       "<div>\n",
       "<style scoped>\n",
       "    .dataframe tbody tr th:only-of-type {\n",
       "        vertical-align: middle;\n",
       "    }\n",
       "\n",
       "    .dataframe tbody tr th {\n",
       "        vertical-align: top;\n",
       "    }\n",
       "\n",
       "    .dataframe thead th {\n",
       "        text-align: right;\n",
       "    }\n",
       "</style>\n",
       "<table border=\"1\" class=\"dataframe\">\n",
       "  <thead>\n",
       "    <tr style=\"text-align: right;\">\n",
       "      <th></th>\n",
       "      <th>article_title</th>\n",
       "      <th>article_author</th>\n",
       "      <th>article_publication_date</th>\n",
       "      <th>article_content</th>\n",
       "    </tr>\n",
       "  </thead>\n",
       "  <tbody>\n",
       "    <tr>\n",
       "      <th>0</th>\n",
       "      <td>Diresmikan Jokowi, PTPP Rampungkan Proyek Jala...</td>\n",
       "      <td>Hana Nushratu - detikFinance</td>\n",
       "      <td>20-10-2024</td>\n",
       "      <td>PT PP (Persero) Tbk sebagai salah satu BUMN Ko...</td>\n",
       "    </tr>\n",
       "    <tr>\n",
       "      <th>1</th>\n",
       "      <td>Agenda Jokowi Usai Pulang ke Solo: Tidur</td>\n",
       "      <td>Tara Wahyu NV - detikJateng</td>\n",
       "      <td>20-10-2024</td>\n",
       "      <td>Presiden ke-7 RI, Joko Widodo (Jokowi) mengaku...</td>\n",
       "    </tr>\n",
       "    <tr>\n",
       "      <th>2</th>\n",
       "      <td>Kepulangan Jokowi ke Solo Disambut Warga hingg...</td>\n",
       "      <td>Hana Nushratu - detikNews</td>\n",
       "      <td>20-10-2024</td>\n",
       "      <td>Presiden Republik Indonesia periode 2014-2024 ...</td>\n",
       "    </tr>\n",
       "    <tr>\n",
       "      <th>3</th>\n",
       "      <td>Disambut Antusias Masyarakat Saat Pulang ke So...</td>\n",
       "      <td>Tara Wahyu NV - detikJateng</td>\n",
       "      <td>20-10-2024</td>\n",
       "      <td>Presiden ke-7 Republik Indonesia (RI) Joko Wid...</td>\n",
       "    </tr>\n",
       "    <tr>\n",
       "      <th>4</th>\n",
       "      <td>Sejumlah Calon Kepala Daerah Bertemu Jokowi di...</td>\n",
       "      <td>Tara Wahyu NV - detikJateng</td>\n",
       "      <td>20-10-2024</td>\n",
       "      <td>Sejumlah calon kepala daerah bertemu Presiden ...</td>\n",
       "    </tr>\n",
       "  </tbody>\n",
       "</table>\n",
       "</div>"
      ],
      "text/plain": [
       "                                       article_title  \\\n",
       "0  Diresmikan Jokowi, PTPP Rampungkan Proyek Jala...   \n",
       "1           Agenda Jokowi Usai Pulang ke Solo: Tidur   \n",
       "2  Kepulangan Jokowi ke Solo Disambut Warga hingg...   \n",
       "3  Disambut Antusias Masyarakat Saat Pulang ke So...   \n",
       "4  Sejumlah Calon Kepala Daerah Bertemu Jokowi di...   \n",
       "\n",
       "                 article_author article_publication_date  \\\n",
       "0  Hana Nushratu - detikFinance               20-10-2024   \n",
       "1   Tara Wahyu NV - detikJateng               20-10-2024   \n",
       "2     Hana Nushratu - detikNews               20-10-2024   \n",
       "3   Tara Wahyu NV - detikJateng               20-10-2024   \n",
       "4   Tara Wahyu NV - detikJateng               20-10-2024   \n",
       "\n",
       "                                     article_content  \n",
       "0  PT PP (Persero) Tbk sebagai salah satu BUMN Ko...  \n",
       "1  Presiden ke-7 RI, Joko Widodo (Jokowi) mengaku...  \n",
       "2  Presiden Republik Indonesia periode 2014-2024 ...  \n",
       "3  Presiden ke-7 Republik Indonesia (RI) Joko Wid...  \n",
       "4  Sejumlah calon kepala daerah bertemu Presiden ...  "
      ]
     },
     "execution_count": 23,
     "metadata": {},
     "output_type": "execute_result"
    }
   ],
   "source": [
    "# Function to clean and format the column `article_publication_date`\n",
    "def clean_and_format_article_publication_date(publication_date):\n",
    "    if isinstance(publication_date, str):\n",
    "        # Using regex to extract the part with the date and time\n",
    "        match = re.search(r'([A-Za-z]+, \\d{1,2} [A-Za-z]{3} \\d{4} \\d{2}:\\d{2} WIB)', publication_date)\n",
    "        if match:\n",
    "            # Extract the date string\n",
    "            date_str = match.group(0)\n",
    "            \n",
    "            # Map Indonesian weekdays and months to English\n",
    "            ind_to_eng = {\n",
    "                \"Senin\": \"Monday\", \"Selasa\": \"Tuesday\", \"Rabu\": \"Wednesday\",\n",
    "                \"Kamis\": \"Thursday\", \"Jumat\": \"Friday\", \"Sabtu\": \"Saturday\", \"Minggu\": \"Sunday\",\n",
    "                \"Jan\": \"Jan\", \"Feb\": \"Feb\", \"Mar\": \"Mar\", \"Apr\": \"Apr\", \"Mei\": \"May\",\n",
    "                \"Jun\": \"Jun\", \"Jul\": \"Jul\", \"Agu\": \"Aug\", \"Sep\": \"Sep\", \"Okt\": \"Oct\",\n",
    "                \"Nov\": \"Nov\", \"Des\": \"Dec\"\n",
    "            }\n",
    "            \n",
    "            # Replace Indonesian weekdays and months with English equivalents\n",
    "            for ind, eng in ind_to_eng.items():\n",
    "                date_str = date_str.replace(ind, eng)\n",
    "            \n",
    "            # Parse the modified date string\n",
    "            date_obj = datetime.strptime(date_str, \"%A, %d %b %Y %H:%M WIB\")\n",
    "            \n",
    "            # Format the datetime object to 'DD-MM-YYYY'\n",
    "            return date_obj.strftime(\"%d-%m-%Y\")\n",
    "    return publication_date  # If no date is found, return the original value\n",
    "\n",
    "df['article_publication_date'] = df['article_publication_date'].apply(clean_and_format_article_publication_date)\n",
    "df.head()"
   ]
  },
  {
   "cell_type": "code",
   "execution_count": 24,
   "id": "88422fc4-c87c-4aca-8481-f545cdcbe60e",
   "metadata": {},
   "outputs": [
    {
     "data": {
      "text/html": [
       "<div>\n",
       "<style scoped>\n",
       "    .dataframe tbody tr th:only-of-type {\n",
       "        vertical-align: middle;\n",
       "    }\n",
       "\n",
       "    .dataframe tbody tr th {\n",
       "        vertical-align: top;\n",
       "    }\n",
       "\n",
       "    .dataframe thead th {\n",
       "        text-align: right;\n",
       "    }\n",
       "</style>\n",
       "<table border=\"1\" class=\"dataframe\">\n",
       "  <thead>\n",
       "    <tr style=\"text-align: right;\">\n",
       "      <th></th>\n",
       "      <th>article_title</th>\n",
       "      <th>article_author</th>\n",
       "      <th>article_publication_date</th>\n",
       "      <th>article_content</th>\n",
       "    </tr>\n",
       "  </thead>\n",
       "  <tbody>\n",
       "    <tr>\n",
       "      <th>0</th>\n",
       "      <td>Diresmikan Jokowi, PTPP Rampungkan Proyek Jala...</td>\n",
       "      <td>Hana Nushratu</td>\n",
       "      <td>20-10-2024</td>\n",
       "      <td>PT PP (Persero) Tbk sebagai salah satu BUMN Ko...</td>\n",
       "    </tr>\n",
       "    <tr>\n",
       "      <th>1</th>\n",
       "      <td>Agenda Jokowi Usai Pulang ke Solo: Tidur</td>\n",
       "      <td>Tara Wahyu NV</td>\n",
       "      <td>20-10-2024</td>\n",
       "      <td>Presiden ke-7 RI, Joko Widodo (Jokowi) mengaku...</td>\n",
       "    </tr>\n",
       "    <tr>\n",
       "      <th>2</th>\n",
       "      <td>Kepulangan Jokowi ke Solo Disambut Warga hingg...</td>\n",
       "      <td>Hana Nushratu</td>\n",
       "      <td>20-10-2024</td>\n",
       "      <td>Presiden Republik Indonesia periode 2014-2024 ...</td>\n",
       "    </tr>\n",
       "    <tr>\n",
       "      <th>3</th>\n",
       "      <td>Disambut Antusias Masyarakat Saat Pulang ke So...</td>\n",
       "      <td>Tara Wahyu NV</td>\n",
       "      <td>20-10-2024</td>\n",
       "      <td>Presiden ke-7 Republik Indonesia (RI) Joko Wid...</td>\n",
       "    </tr>\n",
       "    <tr>\n",
       "      <th>4</th>\n",
       "      <td>Sejumlah Calon Kepala Daerah Bertemu Jokowi di...</td>\n",
       "      <td>Tara Wahyu NV</td>\n",
       "      <td>20-10-2024</td>\n",
       "      <td>Sejumlah calon kepala daerah bertemu Presiden ...</td>\n",
       "    </tr>\n",
       "  </tbody>\n",
       "</table>\n",
       "</div>"
      ],
      "text/plain": [
       "                                       article_title article_author  \\\n",
       "0  Diresmikan Jokowi, PTPP Rampungkan Proyek Jala...  Hana Nushratu   \n",
       "1           Agenda Jokowi Usai Pulang ke Solo: Tidur  Tara Wahyu NV   \n",
       "2  Kepulangan Jokowi ke Solo Disambut Warga hingg...  Hana Nushratu   \n",
       "3  Disambut Antusias Masyarakat Saat Pulang ke So...  Tara Wahyu NV   \n",
       "4  Sejumlah Calon Kepala Daerah Bertemu Jokowi di...  Tara Wahyu NV   \n",
       "\n",
       "  article_publication_date                                    article_content  \n",
       "0               20-10-2024  PT PP (Persero) Tbk sebagai salah satu BUMN Ko...  \n",
       "1               20-10-2024  Presiden ke-7 RI, Joko Widodo (Jokowi) mengaku...  \n",
       "2               20-10-2024  Presiden Republik Indonesia periode 2014-2024 ...  \n",
       "3               20-10-2024  Presiden ke-7 Republik Indonesia (RI) Joko Wid...  \n",
       "4               20-10-2024  Sejumlah calon kepala daerah bertemu Presiden ...  "
      ]
     },
     "execution_count": 24,
     "metadata": {},
     "output_type": "execute_result"
    }
   ],
   "source": [
    "# Function to clean the column `article_author`\n",
    "def clean_article_author(author):\n",
    "    if isinstance(author, str):\n",
    "        return author.split('-')[0].strip()  # Extract only the part before the '-' sign\n",
    "    return author\n",
    "\n",
    "df['article_author'] = df['article_author'].apply(clean_article_author)\n",
    "df.head()"
   ]
  },
  {
   "cell_type": "code",
   "execution_count": 25,
   "id": "37c2be38-053b-405b-942d-26098f6941b9",
   "metadata": {},
   "outputs": [
    {
     "data": {
      "text/html": [
       "<div>\n",
       "<style scoped>\n",
       "    .dataframe tbody tr th:only-of-type {\n",
       "        vertical-align: middle;\n",
       "    }\n",
       "\n",
       "    .dataframe tbody tr th {\n",
       "        vertical-align: top;\n",
       "    }\n",
       "\n",
       "    .dataframe thead th {\n",
       "        text-align: right;\n",
       "    }\n",
       "</style>\n",
       "<table border=\"1\" class=\"dataframe\">\n",
       "  <thead>\n",
       "    <tr style=\"text-align: right;\">\n",
       "      <th></th>\n",
       "      <th>article_title</th>\n",
       "      <th>article_author</th>\n",
       "      <th>article_publication_date</th>\n",
       "      <th>article_content</th>\n",
       "    </tr>\n",
       "  </thead>\n",
       "  <tbody>\n",
       "    <tr>\n",
       "      <th>0</th>\n",
       "      <td>Diresmikan Jokowi, PTPP Rampungkan Proyek Jala...</td>\n",
       "      <td>Hana Nushratu</td>\n",
       "      <td>20-10-2024</td>\n",
       "      <td>PT PP (Persero) Tbk sebagai salah satu BUMN Ko...</td>\n",
       "    </tr>\n",
       "    <tr>\n",
       "      <th>1</th>\n",
       "      <td>Agenda Jokowi Usai Pulang ke Solo: Tidur</td>\n",
       "      <td>Tara Wahyu NV</td>\n",
       "      <td>20-10-2024</td>\n",
       "      <td>Presiden ke-7 RI, Joko Widodo (Jokowi) mengaku...</td>\n",
       "    </tr>\n",
       "    <tr>\n",
       "      <th>2</th>\n",
       "      <td>Kepulangan Jokowi ke Solo Disambut Warga hingg...</td>\n",
       "      <td>Hana Nushratu</td>\n",
       "      <td>20-10-2024</td>\n",
       "      <td>Presiden Republik Indonesia periode 2014-2024 ...</td>\n",
       "    </tr>\n",
       "    <tr>\n",
       "      <th>3</th>\n",
       "      <td>Disambut Antusias Masyarakat Saat Pulang ke So...</td>\n",
       "      <td>Tara Wahyu NV</td>\n",
       "      <td>20-10-2024</td>\n",
       "      <td>Presiden ke-7 Republik Indonesia (RI) Joko Wid...</td>\n",
       "    </tr>\n",
       "    <tr>\n",
       "      <th>4</th>\n",
       "      <td>Sejumlah Calon Kepala Daerah Bertemu Jokowi di...</td>\n",
       "      <td>Tara Wahyu NV</td>\n",
       "      <td>20-10-2024</td>\n",
       "      <td>Sejumlah calon kepala daerah bertemu Presiden ...</td>\n",
       "    </tr>\n",
       "  </tbody>\n",
       "</table>\n",
       "</div>"
      ],
      "text/plain": [
       "                                       article_title article_author  \\\n",
       "0  Diresmikan Jokowi, PTPP Rampungkan Proyek Jala...  Hana Nushratu   \n",
       "1           Agenda Jokowi Usai Pulang ke Solo: Tidur  Tara Wahyu NV   \n",
       "2  Kepulangan Jokowi ke Solo Disambut Warga hingg...  Hana Nushratu   \n",
       "3  Disambut Antusias Masyarakat Saat Pulang ke So...  Tara Wahyu NV   \n",
       "4  Sejumlah Calon Kepala Daerah Bertemu Jokowi di...  Tara Wahyu NV   \n",
       "\n",
       "  article_publication_date                                    article_content  \n",
       "0               20-10-2024  PT PP (Persero) Tbk sebagai salah satu BUMN Ko...  \n",
       "1               20-10-2024  Presiden ke-7 RI, Joko Widodo (Jokowi) mengaku...  \n",
       "2               20-10-2024  Presiden Republik Indonesia periode 2014-2024 ...  \n",
       "3               20-10-2024  Presiden ke-7 Republik Indonesia (RI) Joko Wid...  \n",
       "4               20-10-2024  Sejumlah calon kepala daerah bertemu Presiden ...  "
      ]
     },
     "execution_count": 25,
     "metadata": {},
     "output_type": "execute_result"
    }
   ],
   "source": [
    "# Function to clean the `article_content` column from ads and unnecessary content\n",
    "def clean_article_content(content):\n",
    "    if isinstance(content, str):\n",
    "        # Remove text related to images\n",
    "        content = re.sub(r\"\\[Gambas:.*?\\]\", \"\", content)\n",
    "        # Remove the 'Watch Video' section\n",
    "        content = re.sub(r\"Lihat Video '.*?':\", \"\", content)\n",
    "        # Remove the 'Also Watch Video' section\n",
    "        content = re.sub(r\"Simak juga Video '.*?':\", \"\", content)\n",
    "    return content\n",
    "\n",
    "df['article_content'] = df['article_content'].apply(clean_article_content)\n",
    "df.head()"
   ]
  },
  {
   "cell_type": "code",
   "execution_count": 26,
   "id": "d70b6ad7-9777-4f9d-ade0-9f7213a0d2fb",
   "metadata": {},
   "outputs": [
    {
     "data": {
      "text/plain": [
       "(639, 4)"
      ]
     },
     "execution_count": 26,
     "metadata": {},
     "output_type": "execute_result"
    }
   ],
   "source": [
    "# Display the the number of rows x columns after preprocessing\n",
    "df.shape"
   ]
  },
  {
   "cell_type": "code",
   "execution_count": 27,
   "id": "efe71a37-45b4-4f0e-af8a-9252670bdfa8",
   "metadata": {},
   "outputs": [
    {
     "name": "stdout",
     "output_type": "stream",
     "text": [
      "<class 'pandas.core.frame.DataFrame'>\n",
      "Index: 639 entries, 0 to 705\n",
      "Data columns (total 4 columns):\n",
      " #   Column                    Non-Null Count  Dtype \n",
      "---  ------                    --------------  ----- \n",
      " 0   article_title             639 non-null    object\n",
      " 1   article_author            639 non-null    object\n",
      " 2   article_publication_date  639 non-null    object\n",
      " 3   article_content           639 non-null    object\n",
      "dtypes: object(4)\n",
      "memory usage: 25.0+ KB\n"
     ]
    }
   ],
   "source": [
    "# Information about the dataset after preprocessing\n",
    "df.info()"
   ]
  },
  {
   "cell_type": "code",
   "execution_count": 28,
   "id": "4b8f81d2-13cf-4ee5-8531-d90fe59095b6",
   "metadata": {},
   "outputs": [
    {
     "data": {
      "text/html": [
       "<div>\n",
       "<style scoped>\n",
       "    .dataframe tbody tr th:only-of-type {\n",
       "        vertical-align: middle;\n",
       "    }\n",
       "\n",
       "    .dataframe tbody tr th {\n",
       "        vertical-align: top;\n",
       "    }\n",
       "\n",
       "    .dataframe thead th {\n",
       "        text-align: right;\n",
       "    }\n",
       "</style>\n",
       "<table border=\"1\" class=\"dataframe\">\n",
       "  <thead>\n",
       "    <tr style=\"text-align: right;\">\n",
       "      <th></th>\n",
       "      <th>article_title</th>\n",
       "      <th>article_author</th>\n",
       "      <th>article_publication_date</th>\n",
       "      <th>article_content</th>\n",
       "    </tr>\n",
       "  </thead>\n",
       "  <tbody>\n",
       "    <tr>\n",
       "      <th>0</th>\n",
       "      <td>Diresmikan Jokowi, PTPP Rampungkan Proyek Jala...</td>\n",
       "      <td>Hana Nushratu</td>\n",
       "      <td>20-10-2024</td>\n",
       "      <td>PT PP (Persero) Tbk sebagai salah satu BUMN Ko...</td>\n",
       "    </tr>\n",
       "    <tr>\n",
       "      <th>1</th>\n",
       "      <td>Agenda Jokowi Usai Pulang ke Solo: Tidur</td>\n",
       "      <td>Tara Wahyu NV</td>\n",
       "      <td>20-10-2024</td>\n",
       "      <td>Presiden ke-7 RI, Joko Widodo (Jokowi) mengaku...</td>\n",
       "    </tr>\n",
       "    <tr>\n",
       "      <th>2</th>\n",
       "      <td>Kepulangan Jokowi ke Solo Disambut Warga hingg...</td>\n",
       "      <td>Hana Nushratu</td>\n",
       "      <td>20-10-2024</td>\n",
       "      <td>Presiden Republik Indonesia periode 2014-2024 ...</td>\n",
       "    </tr>\n",
       "    <tr>\n",
       "      <th>3</th>\n",
       "      <td>Disambut Antusias Masyarakat Saat Pulang ke So...</td>\n",
       "      <td>Tara Wahyu NV</td>\n",
       "      <td>20-10-2024</td>\n",
       "      <td>Presiden ke-7 Republik Indonesia (RI) Joko Wid...</td>\n",
       "    </tr>\n",
       "    <tr>\n",
       "      <th>4</th>\n",
       "      <td>Sejumlah Calon Kepala Daerah Bertemu Jokowi di...</td>\n",
       "      <td>Tara Wahyu NV</td>\n",
       "      <td>20-10-2024</td>\n",
       "      <td>Sejumlah calon kepala daerah bertemu Presiden ...</td>\n",
       "    </tr>\n",
       "  </tbody>\n",
       "</table>\n",
       "</div>"
      ],
      "text/plain": [
       "                                       article_title article_author  \\\n",
       "0  Diresmikan Jokowi, PTPP Rampungkan Proyek Jala...  Hana Nushratu   \n",
       "1           Agenda Jokowi Usai Pulang ke Solo: Tidur  Tara Wahyu NV   \n",
       "2  Kepulangan Jokowi ke Solo Disambut Warga hingg...  Hana Nushratu   \n",
       "3  Disambut Antusias Masyarakat Saat Pulang ke So...  Tara Wahyu NV   \n",
       "4  Sejumlah Calon Kepala Daerah Bertemu Jokowi di...  Tara Wahyu NV   \n",
       "\n",
       "  article_publication_date                                    article_content  \n",
       "0               20-10-2024  PT PP (Persero) Tbk sebagai salah satu BUMN Ko...  \n",
       "1               20-10-2024  Presiden ke-7 RI, Joko Widodo (Jokowi) mengaku...  \n",
       "2               20-10-2024  Presiden Republik Indonesia periode 2014-2024 ...  \n",
       "3               20-10-2024  Presiden ke-7 Republik Indonesia (RI) Joko Wid...  \n",
       "4               20-10-2024  Sejumlah calon kepala daerah bertemu Presiden ...  "
      ]
     },
     "execution_count": 28,
     "metadata": {},
     "output_type": "execute_result"
    }
   ],
   "source": [
    "# Display the first few rows after preprocessing\n",
    "df.head()"
   ]
  },
  {
   "cell_type": "code",
   "execution_count": 29,
   "id": "fd795ce9-896f-42c5-a103-e19da971aedd",
   "metadata": {},
   "outputs": [
    {
     "name": "stdout",
     "output_type": "stream",
     "text": [
      "Success saved article data to csv\n"
     ]
    }
   ],
   "source": [
    "# Save preprocessing data to csv\n",
    "try:    \n",
    "    df.to_csv('detikcom_preprocessed_news_data.csv', sep='\\t', encoding='utf-8', index=False, header=True)\n",
    "    print('Success saved article data to csv')\n",
    "except Exception as e:\n",
    "    print(f'Error occured while saved article data to csv: {e}')"
   ]
  }
 ],
 "metadata": {
  "kernelspec": {
   "display_name": "python-venv",
   "language": "python",
   "name": "python-venv"
  },
  "language_info": {
   "codemirror_mode": {
    "name": "ipython",
    "version": 3
   },
   "file_extension": ".py",
   "mimetype": "text/x-python",
   "name": "python",
   "nbconvert_exporter": "python",
   "pygments_lexer": "ipython3",
   "version": "3.13.0"
  }
 },
 "nbformat": 4,
 "nbformat_minor": 5
}
