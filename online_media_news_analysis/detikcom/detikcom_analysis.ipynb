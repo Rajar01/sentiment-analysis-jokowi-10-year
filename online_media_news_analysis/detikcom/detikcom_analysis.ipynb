{
 "cells": [
  {
   "cell_type": "code",
   "execution_count": 3,
   "id": "9ffd4c85-34d1-4bf2-80f5-99c515248285",
   "metadata": {},
   "outputs": [],
   "source": [
    "from transformers import AutoTokenizer, AutoModelForSequenceClassification\n",
    "import torch\n",
    "\n",
    "import pandas as pd\n",
    "import matplotlib.pyplot as plt"
   ]
  },
  {
   "cell_type": "code",
   "execution_count": 2,
   "id": "54804aa2-889f-48e3-9a41-020b79efded5",
   "metadata": {},
   "outputs": [],
   "source": [
    "# Load tokenizer dan model\n",
    "tokenizer = AutoTokenizer.from_pretrained('ayameRushia/bert-base-indonesian-1.5G-sentiment-analysis-smsa')\n",
    "model = AutoModelForSequenceClassification.from_pretrained('ayameRushia/bert-base-indonesian-1.5G-sentiment-analysis-smsa')"
   ]
  },
  {
   "cell_type": "code",
   "execution_count": 3,
   "id": "5a7a5863-4681-4f7e-ad49-a27a9edc048b",
   "metadata": {},
   "outputs": [],
   "source": [
    "# Function for tokenization and sentiment analysis\n",
    "def analyze_sentiment(text, tokenizer, model, max_length=512):\n",
    "    \"\"\"\n",
    "    Analyzes the sentiment of the given text using a pre-trained model.\n",
    "\n",
    "    Args:\n",
    "        text: The input text to analyze.\n",
    "        tokenizer: The tokenizer object used to convert text to model input.\n",
    "        model: The pre-trained sentiment analysis model.\n",
    "        max_length: Maximum length of the input sequence. Defaults to 512.\n",
    "\n",
    "    Returns:\n",
    "        A tuple containing the predicted sentiment label and its confidence score.\n",
    "    \"\"\"\n",
    "    # Tokenize the text, truncating if it exceeds the maximum length\n",
    "    inputs = tokenizer(text, return_tensors='pt', truncation=True, max_length=max_length, padding='max_length')\n",
    "    outputs = model(**inputs)\n",
    "    logits = outputs.logits\n",
    "    predicted_class = torch.argmax(logits, dim=1).item()\n",
    "    # Sentiment labels (adjust according to your model)\n",
    "    labels = ['NEGATIVE', 'NEUTRAL', 'POSITIVE']\n",
    "    sentiment = labels[predicted_class]\n",
    "    confidence = torch.softmax(logits, dim=1)[0][predicted_class].item()\n",
    "    return sentiment, confidence\n",
    "\n",
    "# Function for split text if too long\n",
    "def split_text(text, tokenizer, max_length=512):\n",
    "    \"\"\"\n",
    "    Splits the input text into smaller segments if it exceeds the maximum length.\n",
    "\n",
    "    Args:\n",
    "        text: The input text to be split.\n",
    "        tokenizer: The tokenizer object used to convert text to token IDs.\n",
    "        max_length: Maximum length of each segment. Defaults to 512 tokens.\n",
    "\n",
    "    Returns:\n",
    "        A list of text segments, where each segment has a maximum length of `max_length` tokens.\n",
    "    \"\"\"\n",
    "    tokens = tokenizer(text, truncation=False)['input_ids']\n",
    "    segments = [tokens[i:i+max_length] for i in range(0, len(tokens), max_length)]\n",
    "    return [' '.join(tokenizer.convert_ids_to_tokens(segment)) for segment in segments]"
   ]
  },
  {
   "cell_type": "code",
   "execution_count": 4,
   "id": "5b91d19c-2f2b-4f2d-81f4-6d1f002922b6",
   "metadata": {},
   "outputs": [
    {
     "data": {
      "text/html": [
       "<div>\n",
       "<style scoped>\n",
       "    .dataframe tbody tr th:only-of-type {\n",
       "        vertical-align: middle;\n",
       "    }\n",
       "\n",
       "    .dataframe tbody tr th {\n",
       "        vertical-align: top;\n",
       "    }\n",
       "\n",
       "    .dataframe thead th {\n",
       "        text-align: right;\n",
       "    }\n",
       "</style>\n",
       "<table border=\"1\" class=\"dataframe\">\n",
       "  <thead>\n",
       "    <tr style=\"text-align: right;\">\n",
       "      <th></th>\n",
       "      <th>article_title</th>\n",
       "      <th>article_author</th>\n",
       "      <th>article_publication_date</th>\n",
       "      <th>article_content</th>\n",
       "    </tr>\n",
       "  </thead>\n",
       "  <tbody>\n",
       "    <tr>\n",
       "      <th>0</th>\n",
       "      <td>Diresmikan Jokowi, PTPP Rampungkan Proyek Jala...</td>\n",
       "      <td>Hana Nushratu</td>\n",
       "      <td>20-10-2024</td>\n",
       "      <td>PT PP (Persero) Tbk sebagai salah satu BUMN Ko...</td>\n",
       "    </tr>\n",
       "    <tr>\n",
       "      <th>1</th>\n",
       "      <td>Agenda Jokowi Usai Pulang ke Solo: Tidur</td>\n",
       "      <td>Tara Wahyu NV</td>\n",
       "      <td>20-10-2024</td>\n",
       "      <td>Presiden ke-7 RI, Joko Widodo (Jokowi) mengaku...</td>\n",
       "    </tr>\n",
       "    <tr>\n",
       "      <th>2</th>\n",
       "      <td>Kepulangan Jokowi ke Solo Disambut Warga hingg...</td>\n",
       "      <td>Hana Nushratu</td>\n",
       "      <td>20-10-2024</td>\n",
       "      <td>Presiden Republik Indonesia periode 2014-2024 ...</td>\n",
       "    </tr>\n",
       "    <tr>\n",
       "      <th>3</th>\n",
       "      <td>Disambut Antusias Masyarakat Saat Pulang ke So...</td>\n",
       "      <td>Tara Wahyu NV</td>\n",
       "      <td>20-10-2024</td>\n",
       "      <td>Presiden ke-7 Republik Indonesia (RI) Joko Wid...</td>\n",
       "    </tr>\n",
       "    <tr>\n",
       "      <th>4</th>\n",
       "      <td>Sejumlah Calon Kepala Daerah Bertemu Jokowi di...</td>\n",
       "      <td>Tara Wahyu NV</td>\n",
       "      <td>20-10-2024</td>\n",
       "      <td>Sejumlah calon kepala daerah bertemu Presiden ...</td>\n",
       "    </tr>\n",
       "  </tbody>\n",
       "</table>\n",
       "</div>"
      ],
      "text/plain": [
       "                                       article_title article_author  \\\n",
       "0  Diresmikan Jokowi, PTPP Rampungkan Proyek Jala...  Hana Nushratu   \n",
       "1           Agenda Jokowi Usai Pulang ke Solo: Tidur  Tara Wahyu NV   \n",
       "2  Kepulangan Jokowi ke Solo Disambut Warga hingg...  Hana Nushratu   \n",
       "3  Disambut Antusias Masyarakat Saat Pulang ke So...  Tara Wahyu NV   \n",
       "4  Sejumlah Calon Kepala Daerah Bertemu Jokowi di...  Tara Wahyu NV   \n",
       "\n",
       "  article_publication_date                                    article_content  \n",
       "0               20-10-2024  PT PP (Persero) Tbk sebagai salah satu BUMN Ko...  \n",
       "1               20-10-2024  Presiden ke-7 RI, Joko Widodo (Jokowi) mengaku...  \n",
       "2               20-10-2024  Presiden Republik Indonesia periode 2014-2024 ...  \n",
       "3               20-10-2024  Presiden ke-7 Republik Indonesia (RI) Joko Wid...  \n",
       "4               20-10-2024  Sejumlah calon kepala daerah bertemu Presiden ...  "
      ]
     },
     "execution_count": 4,
     "metadata": {},
     "output_type": "execute_result"
    }
   ],
   "source": [
    "# Load the detikcom data\n",
    "df = pd.read_csv('detikcom_preprocessed_news_data.csv', sep='\\t')\n",
    "\n",
    "df.head()"
   ]
  },
  {
   "cell_type": "code",
   "execution_count": 13,
   "id": "dcf95cd4-421f-45cb-a3ce-b553f2875d3c",
   "metadata": {},
   "outputs": [
    {
     "name": "stdout",
     "output_type": "stream",
     "text": [
      "Analysis in process\n",
      "Analysis in done\n",
      "\n"
     ]
    },
    {
     "data": {
      "text/html": [
       "<div>\n",
       "<style scoped>\n",
       "    .dataframe tbody tr th:only-of-type {\n",
       "        vertical-align: middle;\n",
       "    }\n",
       "\n",
       "    .dataframe tbody tr th {\n",
       "        vertical-align: top;\n",
       "    }\n",
       "\n",
       "    .dataframe thead th {\n",
       "        text-align: right;\n",
       "    }\n",
       "</style>\n",
       "<table border=\"1\" class=\"dataframe\">\n",
       "  <thead>\n",
       "    <tr style=\"text-align: right;\">\n",
       "      <th></th>\n",
       "      <th>article_title</th>\n",
       "      <th>article_author</th>\n",
       "      <th>article_publication_date</th>\n",
       "      <th>article_content</th>\n",
       "      <th>sentiment</th>\n",
       "      <th>confidence</th>\n",
       "    </tr>\n",
       "  </thead>\n",
       "  <tbody>\n",
       "    <tr>\n",
       "      <th>0</th>\n",
       "      <td>Diresmikan Jokowi, PTPP Rampungkan Proyek Jala...</td>\n",
       "      <td>Hana Nushratu</td>\n",
       "      <td>20-10-2024</td>\n",
       "      <td>PT PP (Persero) Tbk sebagai salah satu BUMN Ko...</td>\n",
       "      <td>NEGATIVE</td>\n",
       "      <td>0.992399</td>\n",
       "    </tr>\n",
       "    <tr>\n",
       "      <th>1</th>\n",
       "      <td>Agenda Jokowi Usai Pulang ke Solo: Tidur</td>\n",
       "      <td>Tara Wahyu NV</td>\n",
       "      <td>20-10-2024</td>\n",
       "      <td>Presiden ke-7 RI, Joko Widodo (Jokowi) mengaku...</td>\n",
       "      <td>NEGATIVE</td>\n",
       "      <td>0.444278</td>\n",
       "    </tr>\n",
       "    <tr>\n",
       "      <th>2</th>\n",
       "      <td>Kepulangan Jokowi ke Solo Disambut Warga hingg...</td>\n",
       "      <td>Hana Nushratu</td>\n",
       "      <td>20-10-2024</td>\n",
       "      <td>Presiden Republik Indonesia periode 2014-2024 ...</td>\n",
       "      <td>NEGATIVE</td>\n",
       "      <td>0.777911</td>\n",
       "    </tr>\n",
       "    <tr>\n",
       "      <th>3</th>\n",
       "      <td>Disambut Antusias Masyarakat Saat Pulang ke So...</td>\n",
       "      <td>Tara Wahyu NV</td>\n",
       "      <td>20-10-2024</td>\n",
       "      <td>Presiden ke-7 Republik Indonesia (RI) Joko Wid...</td>\n",
       "      <td>NEGATIVE</td>\n",
       "      <td>0.997481</td>\n",
       "    </tr>\n",
       "    <tr>\n",
       "      <th>4</th>\n",
       "      <td>Sejumlah Calon Kepala Daerah Bertemu Jokowi di...</td>\n",
       "      <td>Tara Wahyu NV</td>\n",
       "      <td>20-10-2024</td>\n",
       "      <td>Sejumlah calon kepala daerah bertemu Presiden ...</td>\n",
       "      <td>NEGATIVE</td>\n",
       "      <td>0.994289</td>\n",
       "    </tr>\n",
       "  </tbody>\n",
       "</table>\n",
       "</div>"
      ],
      "text/plain": [
       "                                       article_title article_author  \\\n",
       "0  Diresmikan Jokowi, PTPP Rampungkan Proyek Jala...  Hana Nushratu   \n",
       "1           Agenda Jokowi Usai Pulang ke Solo: Tidur  Tara Wahyu NV   \n",
       "2  Kepulangan Jokowi ke Solo Disambut Warga hingg...  Hana Nushratu   \n",
       "3  Disambut Antusias Masyarakat Saat Pulang ke So...  Tara Wahyu NV   \n",
       "4  Sejumlah Calon Kepala Daerah Bertemu Jokowi di...  Tara Wahyu NV   \n",
       "\n",
       "  article_publication_date                                    article_content  \\\n",
       "0               20-10-2024  PT PP (Persero) Tbk sebagai salah satu BUMN Ko...   \n",
       "1               20-10-2024  Presiden ke-7 RI, Joko Widodo (Jokowi) mengaku...   \n",
       "2               20-10-2024  Presiden Republik Indonesia periode 2014-2024 ...   \n",
       "3               20-10-2024  Presiden ke-7 Republik Indonesia (RI) Joko Wid...   \n",
       "4               20-10-2024  Sejumlah calon kepala daerah bertemu Presiden ...   \n",
       "\n",
       "  sentiment  confidence  \n",
       "0  NEGATIVE    0.992399  \n",
       "1  NEGATIVE    0.444278  \n",
       "2  NEGATIVE    0.777911  \n",
       "3  NEGATIVE    0.997481  \n",
       "4  NEGATIVE    0.994289  "
      ]
     },
     "execution_count": 13,
     "metadata": {},
     "output_type": "execute_result"
    }
   ],
   "source": [
    "# Sentiment analysis for each article\n",
    "\n",
    "sentiments = []\n",
    "confidences = []\n",
    "\n",
    "print('Analysis in process')\n",
    "for article_content in df['article_content']:\n",
    "    article_sentiments = []\n",
    "    article_confidences = []\n",
    "    \n",
    "    # Split the text into segments\n",
    "    article_segments = split_text(article_content, tokenizer, max_length=512)\n",
    "\n",
    "    # Sentiment analysis for each Segment\n",
    "    for i, article_segment in enumerate(article_segments):\n",
    "        article_sentiment, article_confidence = analyze_sentiment(article_segment, tokenizer, model)\n",
    "        article_sentiments.append(article_sentiment)\n",
    "        article_confidences.append(article_confidence)\n",
    "\n",
    "    # Convert sentiment to a numeric value (positive=1, negative=-1, neutral=0)\n",
    "    numerical_sentiment_scores = [1 if s == 'POSITIVE' else -1 if s == 'NEGATIVE' else 0 for s in article_sentiments]\n",
    "\n",
    "    # Calculate the average of sentiment \n",
    "    average_sentiment_score = sum(numerical_sentiment_scores) / len(numerical_sentiment_scores)\n",
    "    \n",
    "    # Convert average score back to sentiment label\n",
    "    if average_sentiment_score > 0:\n",
    "        sentiment = 'POSITIVE'\n",
    "    elif average_sentiment_score < 0:\n",
    "        sentiment = 'NEGATIVE'\n",
    "    else:\n",
    "        sentiment = 'NEUTRAL'\n",
    "\n",
    "    # Calculate the average of sentiment confident score\n",
    "    confidence = sum(article_confidences) / len(article_confidences)\n",
    "\n",
    "    sentiments.append(sentiment)\n",
    "    confidences.append(confidence)\n",
    "\n",
    "print('Analysis in done\\n')\n",
    "\n",
    "df['sentiment'] = sentiments\n",
    "df['confidence'] = confidences\n",
    "\n",
    "df.head()"
   ]
  },
  {
   "cell_type": "code",
   "execution_count": 15,
   "id": "7e7c48f2-16e8-4885-8c20-dbc4c9e0fb07",
   "metadata": {},
   "outputs": [
    {
     "name": "stdout",
     "output_type": "stream",
     "text": [
      "Success saved article data to csv\n"
     ]
    }
   ],
   "source": [
    "# Save analysis result to csv\n",
    "\n",
    "try:    \n",
    "    df.to_csv('detikcom_analysis_result.csv', sep='\\t', encoding='utf-8', index=False, header=True)\n",
    "    print('Success saved article data to csv')\n",
    "except Exception as e:\n",
    "    print(f'Error occured while saved article data to csv: {e}')"
   ]
  },
  {
   "cell_type": "code",
   "execution_count": 4,
   "id": "bc47b9c0-0aa6-4756-bb9a-f2943b7eb006",
   "metadata": {},
   "outputs": [
    {
     "data": {
      "text/html": [
       "<div>\n",
       "<style scoped>\n",
       "    .dataframe tbody tr th:only-of-type {\n",
       "        vertical-align: middle;\n",
       "    }\n",
       "\n",
       "    .dataframe tbody tr th {\n",
       "        vertical-align: top;\n",
       "    }\n",
       "\n",
       "    .dataframe thead th {\n",
       "        text-align: right;\n",
       "    }\n",
       "</style>\n",
       "<table border=\"1\" class=\"dataframe\">\n",
       "  <thead>\n",
       "    <tr style=\"text-align: right;\">\n",
       "      <th></th>\n",
       "      <th>article_title</th>\n",
       "      <th>article_author</th>\n",
       "      <th>article_publication_date</th>\n",
       "      <th>article_content</th>\n",
       "      <th>sentiment</th>\n",
       "      <th>confidence</th>\n",
       "    </tr>\n",
       "  </thead>\n",
       "  <tbody>\n",
       "    <tr>\n",
       "      <th>0</th>\n",
       "      <td>Diresmikan Jokowi, PTPP Rampungkan Proyek Jala...</td>\n",
       "      <td>Hana Nushratu</td>\n",
       "      <td>20-10-2024</td>\n",
       "      <td>PT PP (Persero) Tbk sebagai salah satu BUMN Ko...</td>\n",
       "      <td>NEGATIVE</td>\n",
       "      <td>0.992399</td>\n",
       "    </tr>\n",
       "    <tr>\n",
       "      <th>1</th>\n",
       "      <td>Agenda Jokowi Usai Pulang ke Solo: Tidur</td>\n",
       "      <td>Tara Wahyu NV</td>\n",
       "      <td>20-10-2024</td>\n",
       "      <td>Presiden ke-7 RI, Joko Widodo (Jokowi) mengaku...</td>\n",
       "      <td>NEGATIVE</td>\n",
       "      <td>0.444278</td>\n",
       "    </tr>\n",
       "    <tr>\n",
       "      <th>2</th>\n",
       "      <td>Kepulangan Jokowi ke Solo Disambut Warga hingg...</td>\n",
       "      <td>Hana Nushratu</td>\n",
       "      <td>20-10-2024</td>\n",
       "      <td>Presiden Republik Indonesia periode 2014-2024 ...</td>\n",
       "      <td>NEGATIVE</td>\n",
       "      <td>0.777911</td>\n",
       "    </tr>\n",
       "    <tr>\n",
       "      <th>3</th>\n",
       "      <td>Disambut Antusias Masyarakat Saat Pulang ke So...</td>\n",
       "      <td>Tara Wahyu NV</td>\n",
       "      <td>20-10-2024</td>\n",
       "      <td>Presiden ke-7 Republik Indonesia (RI) Joko Wid...</td>\n",
       "      <td>NEGATIVE</td>\n",
       "      <td>0.997481</td>\n",
       "    </tr>\n",
       "    <tr>\n",
       "      <th>4</th>\n",
       "      <td>Sejumlah Calon Kepala Daerah Bertemu Jokowi di...</td>\n",
       "      <td>Tara Wahyu NV</td>\n",
       "      <td>20-10-2024</td>\n",
       "      <td>Sejumlah calon kepala daerah bertemu Presiden ...</td>\n",
       "      <td>NEGATIVE</td>\n",
       "      <td>0.994289</td>\n",
       "    </tr>\n",
       "  </tbody>\n",
       "</table>\n",
       "</div>"
      ],
      "text/plain": [
       "                                       article_title article_author  \\\n",
       "0  Diresmikan Jokowi, PTPP Rampungkan Proyek Jala...  Hana Nushratu   \n",
       "1           Agenda Jokowi Usai Pulang ke Solo: Tidur  Tara Wahyu NV   \n",
       "2  Kepulangan Jokowi ke Solo Disambut Warga hingg...  Hana Nushratu   \n",
       "3  Disambut Antusias Masyarakat Saat Pulang ke So...  Tara Wahyu NV   \n",
       "4  Sejumlah Calon Kepala Daerah Bertemu Jokowi di...  Tara Wahyu NV   \n",
       "\n",
       "  article_publication_date                                    article_content  \\\n",
       "0               20-10-2024  PT PP (Persero) Tbk sebagai salah satu BUMN Ko...   \n",
       "1               20-10-2024  Presiden ke-7 RI, Joko Widodo (Jokowi) mengaku...   \n",
       "2               20-10-2024  Presiden Republik Indonesia periode 2014-2024 ...   \n",
       "3               20-10-2024  Presiden ke-7 Republik Indonesia (RI) Joko Wid...   \n",
       "4               20-10-2024  Sejumlah calon kepala daerah bertemu Presiden ...   \n",
       "\n",
       "  sentiment  confidence  \n",
       "0  NEGATIVE    0.992399  \n",
       "1  NEGATIVE    0.444278  \n",
       "2  NEGATIVE    0.777911  \n",
       "3  NEGATIVE    0.997481  \n",
       "4  NEGATIVE    0.994289  "
      ]
     },
     "execution_count": 4,
     "metadata": {},
     "output_type": "execute_result"
    }
   ],
   "source": [
    "# Load the detikcom analysis result\n",
    "\n",
    "df = pd.read_csv('detikcom_analysis_result.csv', sep='\\t')\n",
    "\n",
    "df.head()"
   ]
  },
  {
   "cell_type": "code",
   "execution_count": 5,
   "id": "ec5dc6cf-d2d2-4d60-b9f6-49adf556b7c4",
   "metadata": {},
   "outputs": [
    {
     "data": {
      "text/plain": [
       "(639, 6)"
      ]
     },
     "execution_count": 5,
     "metadata": {},
     "output_type": "execute_result"
    }
   ],
   "source": [
    "# Display the the number of rows x columns\n",
    "df.shape"
   ]
  },
  {
   "cell_type": "code",
   "execution_count": 6,
   "id": "26b1a3ed-a992-4a71-a00d-a93d64f5b468",
   "metadata": {},
   "outputs": [
    {
     "data": {
      "text/html": [
       "<div>\n",
       "<style scoped>\n",
       "    .dataframe tbody tr th:only-of-type {\n",
       "        vertical-align: middle;\n",
       "    }\n",
       "\n",
       "    .dataframe tbody tr th {\n",
       "        vertical-align: top;\n",
       "    }\n",
       "\n",
       "    .dataframe thead th {\n",
       "        text-align: right;\n",
       "    }\n",
       "</style>\n",
       "<table border=\"1\" class=\"dataframe\">\n",
       "  <thead>\n",
       "    <tr style=\"text-align: right;\">\n",
       "      <th></th>\n",
       "      <th>confidence</th>\n",
       "    </tr>\n",
       "  </thead>\n",
       "  <tbody>\n",
       "    <tr>\n",
       "      <th>count</th>\n",
       "      <td>639.000000</td>\n",
       "    </tr>\n",
       "    <tr>\n",
       "      <th>mean</th>\n",
       "      <td>0.937705</td>\n",
       "    </tr>\n",
       "    <tr>\n",
       "      <th>std</th>\n",
       "      <td>0.116753</td>\n",
       "    </tr>\n",
       "    <tr>\n",
       "      <th>min</th>\n",
       "      <td>0.382905</td>\n",
       "    </tr>\n",
       "    <tr>\n",
       "      <th>25%</th>\n",
       "      <td>0.943252</td>\n",
       "    </tr>\n",
       "    <tr>\n",
       "      <th>50%</th>\n",
       "      <td>0.994924</td>\n",
       "    </tr>\n",
       "    <tr>\n",
       "      <th>75%</th>\n",
       "      <td>0.998862</td>\n",
       "    </tr>\n",
       "    <tr>\n",
       "      <th>max</th>\n",
       "      <td>0.999751</td>\n",
       "    </tr>\n",
       "  </tbody>\n",
       "</table>\n",
       "</div>"
      ],
      "text/plain": [
       "       confidence\n",
       "count  639.000000\n",
       "mean     0.937705\n",
       "std      0.116753\n",
       "min      0.382905\n",
       "25%      0.943252\n",
       "50%      0.994924\n",
       "75%      0.998862\n",
       "max      0.999751"
      ]
     },
     "execution_count": 6,
     "metadata": {},
     "output_type": "execute_result"
    }
   ],
   "source": [
    "# Summary statistics\n",
    "df.describe()"
   ]
  },
  {
   "cell_type": "code",
   "execution_count": 7,
   "id": "0ff1f7a4-4474-4748-9c97-7f336df3ca32",
   "metadata": {},
   "outputs": [
    {
     "name": "stdout",
     "output_type": "stream",
     "text": [
      "<class 'pandas.core.frame.DataFrame'>\n",
      "RangeIndex: 639 entries, 0 to 638\n",
      "Data columns (total 6 columns):\n",
      " #   Column                    Non-Null Count  Dtype  \n",
      "---  ------                    --------------  -----  \n",
      " 0   article_title             639 non-null    object \n",
      " 1   article_author            639 non-null    object \n",
      " 2   article_publication_date  639 non-null    object \n",
      " 3   article_content           639 non-null    object \n",
      " 4   sentiment                 639 non-null    object \n",
      " 5   confidence                639 non-null    float64\n",
      "dtypes: float64(1), object(5)\n",
      "memory usage: 30.1+ KB\n"
     ]
    }
   ],
   "source": [
    "# Information about the dataset\n",
    "df.info()"
   ]
  },
  {
   "cell_type": "code",
   "execution_count": 8,
   "id": "3054c379-4eb0-4554-9817-54346b04aec5",
   "metadata": {},
   "outputs": [
    {
     "data": {
      "text/plain": [
       "19"
      ]
     },
     "execution_count": 8,
     "metadata": {},
     "output_type": "execute_result"
    }
   ],
   "source": [
    "# Check row where confidence score less than 0.6\n",
    "len(df[df['confidence'] < 0.6])"
   ]
  },
  {
   "cell_type": "code",
   "execution_count": 9,
   "id": "ae83e4b7-0260-4871-990a-7ca7bc4bee02",
   "metadata": {},
   "outputs": [
    {
     "data": {
      "text/plain": [
       "0"
      ]
     },
     "execution_count": 9,
     "metadata": {},
     "output_type": "execute_result"
    }
   ],
   "source": [
    "# Drop row where confidence score less than 0.6\n",
    "df = df[df['confidence'] >= 0.6]\n",
    "\n",
    "len(df[df['confidence'] < 0.6])"
   ]
  },
  {
   "cell_type": "code",
   "execution_count": 10,
   "id": "428e2063-eb0c-4ab5-9ad1-1d6492354317",
   "metadata": {},
   "outputs": [
    {
     "data": {
      "text/plain": [
       "(620, 6)"
      ]
     },
     "execution_count": 10,
     "metadata": {},
     "output_type": "execute_result"
    }
   ],
   "source": [
    "# Display the the number of rows x columns after drop row where confidence score less than 0.6\n",
    "df.shape"
   ]
  },
  {
   "cell_type": "code",
   "execution_count": 11,
   "id": "9d559bbb-2190-4eef-959c-f8ce5f35ed77",
   "metadata": {},
   "outputs": [
    {
     "data": {
      "text/plain": [
       "{'NEGATIVE': 215, 'NEUTRAL': 292, 'POSITIVE': 113}"
      ]
     },
     "execution_count": 11,
     "metadata": {},
     "output_type": "execute_result"
    }
   ],
   "source": [
    "# Display total number of negative, neutral, and positive sentiment\n",
    "sentiment_each_type_count = {\n",
    "    'NEGATIVE': len(df[df['sentiment'] == 'NEGATIVE']),\n",
    "    'NEUTRAL': len(df[df['sentiment'] == 'NEUTRAL']),\n",
    "    'POSITIVE': len(df[df['sentiment'] == 'POSITIVE']),\n",
    "}\n",
    "\n",
    "sentiment_each_type_count"
   ]
  },
  {
   "cell_type": "code",
   "execution_count": 13,
   "id": "be82af27-c94d-4d70-9212-1a1178002002",
   "metadata": {},
   "outputs": [
    {
     "data": {
      "image/png": "[encoded data removed]",
      "text/plain": [
       "<Figure size 640x480 with 1 Axes>"
      ]
     },
     "metadata": {},
     "output_type": "display_data"
    }
   ],
   "source": [
    "# Extract labels and values\n",
    "labels = list(sentiment_each_type_count.keys())\n",
    "values = list(sentiment_each_type_count.values())\n",
    "\n",
    "# Create a pie chart \n",
    "plt.pie(values, labels=labels, autopct='%1.1f%%', startangle=140)\n",
    "plt.title(\"Detikcom Sentiment Distribution\")\n",
    "\n",
    "# Show the plot\n",
    "plt.show()"
   ]
  }
 ],
 "metadata": {
  "kernelspec": {
   "display_name": "python-venv",
   "language": "python",
   "name": "python-venv"
  },
  "language_info": {
   "codemirror_mode": {
    "name": "ipython",
    "version": 3
   },
   "file_extension": ".py",
   "mimetype": "text/x-python",
   "name": "python",
   "nbconvert_exporter": "python",
   "pygments_lexer": "ipython3",
   "version": "3.13.0"
  }
 },
 "nbformat": 4,
 "nbformat_minor": 5
}
