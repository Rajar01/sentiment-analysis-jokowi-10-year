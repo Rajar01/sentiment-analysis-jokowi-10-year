{
 "cells": [
  {
   "cell_type": "code",
   "execution_count": 27,
   "id": "6025aeeb-cdbf-4e61-a6fa-bf13574fa63e",
   "metadata": {},
   "outputs": [],
   "source": [
    "from bs4 import BeautifulSoup\n",
    "from lxml import etree\n",
    "\n",
    "import requests\n",
    "import pandas\n",
    "import os"
   ]
  },
  {
   "cell_type": "code",
   "execution_count": 2,
   "id": "f93bcbe1-b35d-410f-8ecf-8ef945887268",
   "metadata": {},
   "outputs": [],
   "source": [
    "url = 'https://www.cnnindonesia.com/api/v2/search?query=jokowi&start=0&limit=460'\n",
    "\n",
    "response = requests.get(url)\n",
    "article_jsons = response.json()['data']"
   ]
  },
  {
   "cell_type": "code",
   "execution_count": 37,
   "id": "fcaac5a8-30dd-4cb0-8f9b-405192889c41",
   "metadata": {},
   "outputs": [
    {
     "name": "stdout",
     "output_type": "stream",
     "text": [
      "Finish parse article json to get article data\n",
      "Success saved article data to csv\n"
     ]
    }
   ],
   "source": [
    "articles = []\n",
    "\n",
    "# Parse json to get article data\n",
    "for article_json in article_jsons: \n",
    "    article = {\n",
    "        'article_title' : '',\n",
    "        'article_author': '',\n",
    "        'article_publication_date' : '',\n",
    "        'article_content' : '',\n",
    "    }\n",
    "\n",
    "    # Get the title of article\n",
    "    article['article_title'] = article_json['strjudul'].strip()\n",
    "\n",
    "    # Get the author of article\n",
    "    article['article_author'] = 'CNN Indonesia'\n",
    "\n",
    "    # Get publication date of article\n",
    "    article['article_publication_date'] = article_json['dtnewsdate'].strip()\n",
    "    \n",
    "    # Get the content of article\n",
    "    article_content_html = BeautifulSoup(article_json['strisi'], 'lxml')\n",
    "    article['article_content'] = article_content_html.text.strip()\n",
    "\n",
    "    articles.append(article)\n",
    "print('Finish parse article json to get article data')\n",
    "\n",
    "# Save article data to csv\n",
    "dataframe = pandas.DataFrame(articles)\n",
    "\n",
    "try:    \n",
    "    if os.path.isfile('./cnnindonesia_unprocessed_news_data.csv') == True:\n",
    "        dataframe.to_csv('cnnindonesia_unprocessed_news_data.csv', sep='\\t', encoding='utf-8', index=False, header=False, mode='a')\n",
    "    else:\n",
    "        dataframe.to_csv('cnnindonesia_unprocessed_news_data.csv', sep='\\t', encoding='utf-8', index=False, header=True)\n",
    "\n",
    "    print('Success saved article data to csv')\n",
    "except Exception as e:\n",
    "    print(f'Error occured while saved article data to csv: {e}')"
   ]
  }
 ],
 "metadata": {
  "kernelspec": {
   "display_name": "python-venv",
   "language": "python",
   "name": "python-venv"
  },
  "language_info": {
   "codemirror_mode": {
    "name": "ipython",
    "version": 3
   },
   "file_extension": ".py",
   "mimetype": "text/x-python",
   "name": "python",
   "nbconvert_exporter": "python",
   "pygments_lexer": "ipython3",
   "version": "3.13.0"
  }
 },
 "nbformat": 4,
 "nbformat_minor": 5
}
